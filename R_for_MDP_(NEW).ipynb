{
  "nbformat": 4,
  "nbformat_minor": 0,
  "metadata": {
    "colab": {
      "provenance": [],
      "authorship_tag": "ABX9TyPTBqnjCR5Ps91o4NhZq098",
      "include_colab_link": true
    },
    "kernelspec": {
      "name": "ir",
      "display_name": "R"
    },
    "language_info": {
      "name": "R"
    }
  },
  "cells": [
    {
      "cell_type": "markdown",
      "metadata": {
        "id": "view-in-github",
        "colab_type": "text"
      },
      "source": [
        "<a href=\"https://colab.research.google.com/github/IshtiSikder/Optimal-allocation-of-rescue-teams-for-hostage-situations/blob/updates/R_for_MDP_(NEW).ipynb\" target=\"_parent\"><img src=\"https://colab.research.google.com/assets/colab-badge.svg\" alt=\"Open In Colab\"/></a>"
      ]
    },
    {
      "cell_type": "markdown",
      "source": [
        "Cost equations are improved (15th May, 23)"
      ],
      "metadata": {
        "id": "iWYZ94WKmrEC"
      }
    },
    {
      "cell_type": "code",
      "execution_count": 124,
      "metadata": {
        "id": "E5HaHsPMkj2L"
      },
      "outputs": [],
      "source": [
        "# CTMC MDP model for rescue operational system!!!\n",
        "\n",
        "# Check function to determine new policy is same with current or not \n",
        "checkPolicy = function(policySet, policySetnew) {\n",
        "  n = 0\n",
        "  for (i in policySet == policySetnew) {\n",
        "    if (i == 'FALSE') {\n",
        "      n = 1\n",
        "    } \n",
        "  } \n",
        "  if (n == 0) {\n",
        "    return(\"TRUE\")\n",
        "  } else {\n",
        "    return(\"FALSE\")\n",
        "  }\n",
        "} \n",
        "\n",
        "\n",
        "# Define MDP function (for basic policy)\n",
        "MDP = function(lam, mu, eps, numRescue, numTerror, costT, RC, mult) {\n",
        "  r = numRescue\n",
        "  t = numTerror\n",
        "  \n",
        "  #calculating costR\n",
        "\n",
        "  costR = mult*costT*(mu+eps)\n",
        "\n",
        "\n",
        "  #########################################################\n",
        "  #EDITS: 22ND FEB,2023\n",
        "  #NEW SERVICE RATES STRUCTURE, ADD ORIGINAL ONE AS WELL\n",
        "  aijMatrix = array(0, dim = c(t+1,t+1,r+1))\n",
        "  for (k in 1:(r+1)) {\n",
        "    for (i in 1:t) {\n",
        "      aijMatrix[i,i+1,k] <- lam\n",
        "      if (i > 1) {\n",
        "        #if (k==4){\n",
        "          #if(i==4){\n",
        "            #cat('min(k-1,i-1)',min(k-1,i-1))}}\n",
        "        aijMatrix[i,i-1,k] <- sum(min(k-1,i-1)*mu+(i-1)*eps)        \n",
        "      }\n",
        "    }\n",
        "    aijMatrix[t+1,t,k] <- (min(k-1,t)*mu+t*eps)\n",
        "    aijMatrix[1,2,k] <- lam\n",
        "}\n",
        "\n",
        "  for (k in 1:(r+1)) {\n",
        "    for (i in 1:(t+1)) {\n",
        "      \n",
        "      aijMatrix[i,i,k] <- -sum(aijMatrix[i,,k])      \n",
        "    }\n",
        "  }\n",
        "  #########################################################\n",
        "  \n",
        "  \n",
        "  # Design the MDP algorithm\n",
        "  # Value determination\n",
        "  policy = array(0, dim = c(1,t+1)) \n",
        "  policyOld = array(0, dim = c(1,t+1))\n",
        "  policyNew = array(2, dim=c(1,t+1)) # initially set all decision is 1 in first policy\n",
        "  policyTrack = array(2, dim=c(1,t+1))\n",
        "  iteration = 0\n",
        "  gainMatrix = c()\n",
        "  \n",
        "  while (checkPolicy(policyOld, policyNew) == 'FALSE') {\n",
        "    policyOld = policyNew\n",
        "    policy = policyNew\n",
        "    # Design the transition matrix regarding policy\n",
        "    A = array(0, dim = c(t+1,t+1))\n",
        "    for (i in 1:length(policy)) {\n",
        "      A[i,] = aijMatrix[i,,(policy[i])]  \n",
        "    }\n",
        "\n",
        "    # Design the cost matrix regarding policy\n",
        "\n",
        "    q = array(0,dim=c(t+1,1))\n",
        "    for (i in 1:length(policy)) {\n",
        "\n",
        "      if (RC == 'L'){\n",
        "      cost = (policy[i]-1)*costR + (i-1)*eps*costT\n",
        "      }\n",
        "\n",
        "      if (RC == 'SR'){\n",
        "      cost = sqrt(policy[i]-1)*costR + (i-1)*eps*costT\n",
        "      }\n",
        "\n",
        "      if (RC == 'Q'){\n",
        "      cost = ((policy[i]-1)^2)*costR + (i-1)*eps*costT\n",
        "      }\n",
        "\n",
        "      q[i,1] = cost\n",
        "    }\n",
        "\n",
        "\n",
        "    newA = cbind(array(1, dim=c(t+1,1)), -A[,1:t])\n",
        "    solution = solve(newA) %*% q\n",
        "    gain = solution[1] # First row of solution is gain value\n",
        "    gainMatrix = append(gainMatrix, gain)\n",
        "    \n",
        "    # Policy improvement\n",
        "    newsolution = array(0, dim=c(t+1,1))\n",
        "    for (i in 1:t) {\n",
        "      newsolution[i] = solution[i+1]\n",
        "    }\n",
        "    newsolution[t+1] = 0 # Set last v value as 0 to calcultate the test quantity in policy improvement\n",
        "    improveMatrix = array(0, dim=c(t+1,r+1))\n",
        "    cost = array(0,dim=c(t+1,r+1))\n",
        "\n",
        "    for (i in 1:(t+1)) {\n",
        "      for (j in 1:(r+1)) {\n",
        "        # Cost when we have j rescue operation and i terrorists\n",
        "\n",
        "        if (RC == 'L'){\n",
        "      cost[i,j] = (j-1)*costR + (i-1)*eps*costT\n",
        "      }\n",
        "\n",
        "      if (RC == 'SR'){\n",
        "      cost[i,j] = sqrt(j-1)*costR + (i-1)*eps*costT\n",
        "      }\n",
        "\n",
        "      if (RC == 'Q'){\n",
        "      cost[i,j] = ((j-1)^2)*costR + (i-1)*eps*costT\n",
        "      }\n",
        "\n",
        "        improveMatrix[i,j] = cost[i,j] + aijMatrix[i,,j] %*% newsolution\n",
        "\n",
        "      }\n",
        "    }  \n",
        "    \n",
        "    # pick the minimum value among the decision\n",
        "    policyNew = array(1, dim = c(1,t+1))\n",
        "    for (i in 1:length(policyNew)) {\n",
        "      policyNew[i] = which.min(improveMatrix[i,])\n",
        "    }\n",
        "    iteration = iteration + 1\n",
        "    policyTrack = rbind(policyTrack, policyNew)\n",
        "    policyNew\n",
        "  }\n",
        "  for (i in 1:length(policyNew)) {\n",
        "    policyNew[i] = policyNew[i] - 1\n",
        "  }\n",
        "  for (i in 1:nrow(policyTrack)) {\n",
        "    for (j in 1:ncol(policyTrack)) {\n",
        "      policyTrack[i,j] = policyTrack[i,j] - 1      \n",
        "    }\n",
        "\n",
        "  }\n",
        "\n",
        "  \n",
        "   #return(list(policyNew,improveMatrix,cost,aijMatrix,newsolution))\n",
        "\n",
        "   return (policyNew)\n",
        " \n",
        " }"
      ]
    },
    {
      "cell_type": "code",
      "source": [
        "mult_test = function(cost_terror,rc,low_lim,up_lim,incr) {\n",
        "\n",
        "prev_result = array(100,dim=c(1,11))\n",
        "\n",
        "for (val in seq(low_lim,up_lim, by = incr)){\n",
        "\n",
        "        current_result = MDP(lam = 0.2763, mu = 0.2829, eps = 0.1718, numRescue=10, numTerror=10, costT=cost_terror, RC=rc, mult=val)\n",
        "         \n",
        "        if (!(identical(current_result,prev_result))) {\n",
        "\n",
        "          cat('\\n\\n','mult:',val,',','RC:',rc,',','\\n\\n')\n",
        "          cat('optimal policy:\\n')\n",
        "          print(current_result)\n",
        "          \n",
        "\n",
        "          prev_result = current_result\n",
        "\n",
        "        }\n",
        "\n",
        "    }\n",
        "\n",
        "}"
      ],
      "metadata": {
        "id": "A5kdLQx7hcSa"
      },
      "execution_count": 128,
      "outputs": []
    },
    {
      "cell_type": "code",
      "source": [
        "mult_test(1,'L',0,100,0.01)"
      ],
      "metadata": {
        "id": "hcnKhRJxrMAi",
        "outputId": "9c1fcf03-cea9-441f-a3d2-0c77af0e5279",
        "colab": {
          "base_uri": "https://localhost:8080/"
        }
      },
      "execution_count": 129,
      "outputs": [
        {
          "output_type": "stream",
          "name": "stdout",
          "text": [
            "\n",
            "\n",
            " mult: 0 , RC: L , \n",
            "\n",
            "optimal policy:\n",
            "     [,1] [,2] [,3] [,4] [,5] [,6] [,7] [,8] [,9] [,10] [,11]\n",
            "[1,]    0    1    2    3    4    5    6    7    8     9    10\n",
            "\n",
            "\n",
            " mult: 0.54 , RC: L , \n",
            "\n",
            "optimal policy:\n",
            "     [,1] [,2] [,3] [,4] [,5] [,6] [,7] [,8] [,9] [,10] [,11]\n",
            "[1,]    0    1    2    3    4    5    6    7    8     9     0\n",
            "\n",
            "\n",
            " mult: 0.61 , RC: L , \n",
            "\n",
            "optimal policy:\n",
            "     [,1] [,2] [,3] [,4] [,5] [,6] [,7] [,8] [,9] [,10] [,11]\n",
            "[1,]    0    1    2    3    4    5    6    7    8     0     0\n",
            "\n",
            "\n",
            " mult: 0.62 , RC: L , \n",
            "\n",
            "optimal policy:\n",
            "     [,1] [,2] [,3] [,4] [,5] [,6] [,7] [,8] [,9] [,10] [,11]\n",
            "[1,]    0    1    2    3    4    5    6    7    0     0     0\n",
            "\n",
            "\n",
            " mult: 0.63 , RC: L , \n",
            "\n",
            "optimal policy:\n",
            "     [,1] [,2] [,3] [,4] [,5] [,6] [,7] [,8] [,9] [,10] [,11]\n",
            "[1,]    0    0    0    0    0    0    0    0    0     0     0\n"
          ]
        }
      ]
    },
    {
      "cell_type": "markdown",
      "source": [
        "Linear structure, different factor values"
      ],
      "metadata": {
        "id": "8KzPcWEcR7TO"
      }
    },
    {
      "cell_type": "code",
      "source": [
        "mult_test(1,'L',0,100,0.01)"
      ],
      "metadata": {
        "colab": {
          "base_uri": "https://localhost:8080/"
        },
        "id": "3h5d4zuqRi2r",
        "outputId": "6bd1b419-8ce3-4714-dc68-d026db5e6df4"
      },
      "execution_count": 16,
      "outputs": [
        {
          "output_type": "stream",
          "name": "stdout",
          "text": [
            "\n",
            "\n",
            " mult: 0 , RC: L , \n",
            "\n",
            "optimal policy:\n",
            "[[1]]\n",
            "     [,1] [,2] [,3] [,4] [,5] [,6] [,7] [,8] [,9] [,10] [,11]\n",
            "[1,]    0    1    2    3    4    5    6    7    8     9    10\n",
            "\n",
            "\n",
            "\n",
            " mult: 0.54 , RC: L , \n",
            "\n",
            "optimal policy:\n",
            "[[1]]\n",
            "     [,1] [,2] [,3] [,4] [,5] [,6] [,7] [,8] [,9] [,10] [,11]\n",
            "[1,]    0    1    2    3    4    5    6    7    8     9     0\n",
            "\n",
            "\n",
            "\n",
            " mult: 0.61 , RC: L , \n",
            "\n",
            "optimal policy:\n",
            "[[1]]\n",
            "     [,1] [,2] [,3] [,4] [,5] [,6] [,7] [,8] [,9] [,10] [,11]\n",
            "[1,]    0    1    2    3    4    5    6    7    8     0     0\n",
            "\n",
            "\n",
            "\n",
            " mult: 0.62 , RC: L , \n",
            "\n",
            "optimal policy:\n",
            "[[1]]\n",
            "     [,1] [,2] [,3] [,4] [,5] [,6] [,7] [,8] [,9] [,10] [,11]\n",
            "[1,]    0    1    2    3    4    5    6    7    0     0     0\n",
            "\n",
            "\n",
            "\n",
            " mult: 0.63 , RC: L , \n",
            "\n",
            "optimal policy:\n",
            "[[1]]\n",
            "     [,1] [,2] [,3] [,4] [,5] [,6] [,7] [,8] [,9] [,10] [,11]\n",
            "[1,]    0    0    0    0    0    0    0    0    0     0     0\n",
            "\n"
          ]
        }
      ]
    },
    {
      "cell_type": "markdown",
      "source": [
        "Linear cost structure, factor value = 1"
      ],
      "metadata": {
        "id": "V0jQbZ2-SG6L"
      }
    },
    {
      "cell_type": "code",
      "source": [
        "MDP(lam = 0.2763, mu = 0.2829, eps = 0.1718, numRescue=10, numTerror=10,costT=1, RC='L',mult=1)"
      ],
      "metadata": {
        "colab": {
          "base_uri": "https://localhost:8080/",
          "height": 66
        },
        "id": "IGrDxUoqPfsV",
        "outputId": "1e6be5bb-7764-4a67-c708-517dbd63f0b1"
      },
      "execution_count": null,
      "outputs": [
        {
          "output_type": "display_data",
          "data": {
            "text/html": [
              "<table class=\"dataframe\">\n",
              "<caption>A matrix: 1 × 11 of type dbl</caption>\n",
              "<tbody>\n",
              "\t<tr><td>0</td><td>0</td><td>0</td><td>0</td><td>0</td><td>0</td><td>0</td><td>0</td><td>0</td><td>0</td><td>0</td></tr>\n",
              "</tbody>\n",
              "</table>\n"
            ],
            "text/markdown": "\nA matrix: 1 × 11 of type dbl\n\n| 0 | 0 | 0 | 0 | 0 | 0 | 0 | 0 | 0 | 0 | 0 |\n\n",
            "text/latex": "A matrix: 1 × 11 of type dbl\n\\begin{tabular}{lllllllllll}\n\t 0 & 0 & 0 & 0 & 0 & 0 & 0 & 0 & 0 & 0 & 0\\\\\n\\end{tabular}\n",
            "text/plain": [
              "     [,1] [,2] [,3] [,4] [,5] [,6] [,7] [,8] [,9] [,10] [,11]\n",
              "[1,] 0    0    0    0    0    0    0    0    0    0     0    "
            ]
          },
          "metadata": {}
        }
      ]
    },
    {
      "cell_type": "markdown",
      "source": [
        "Square root cost structure, different factor values"
      ],
      "metadata": {
        "id": "awPGqzVJSOxT"
      }
    },
    {
      "cell_type": "code",
      "source": [
        "mult_test(1,'SR',0,100,0.01)"
      ],
      "metadata": {
        "colab": {
          "base_uri": "https://localhost:8080/"
        },
        "id": "hBxQWPJNSPX1",
        "outputId": "8bbf7f09-de1a-4872-f6f9-4c0450e6d003"
      },
      "execution_count": null,
      "outputs": [
        {
          "output_type": "stream",
          "name": "stdout",
          "text": [
            "mult: 0 , RC: SR , \n",
            "\n",
            "0 1 2 3 4 5 6 7 8 9 10 \n",
            "\n",
            "mult: 0.5 , RC: SR , \n",
            "\n",
            "0 0 2 3 4 5 6 7 8 9 10 \n",
            "\n",
            "mult: 0.78 , RC: SR , \n",
            "\n",
            "0 0 0 3 4 5 6 7 8 9 10 \n",
            "\n",
            "mult: 1.01 , RC: SR , \n",
            "\n",
            "0 0 0 0 4 5 6 7 8 9 10 \n",
            "\n",
            "mult: 1.2 , RC: SR , \n",
            "\n",
            "0 0 0 0 0 5 6 7 8 9 10 \n",
            "\n",
            "mult: 1.36 , RC: SR , \n",
            "\n",
            "0 0 0 0 0 0 6 7 8 9 10 \n",
            "\n",
            "mult: 1.5 , RC: SR , \n",
            "\n",
            "0 0 0 0 0 0 0 7 8 9 10 \n",
            "\n",
            "mult: 1.63 , RC: SR , \n",
            "\n",
            "0 0 0 0 0 0 0 0 8 9 10 \n",
            "\n",
            "mult: 1.66 , RC: SR , \n",
            "\n",
            "0 0 0 0 0 0 0 0 8 9 0 \n",
            "\n",
            "mult: 1.75 , RC: SR , \n",
            "\n",
            "0 0 0 0 0 0 0 0 0 9 0 \n",
            "\n",
            "mult: 1.82 , RC: SR , \n",
            "\n",
            "0 0 0 0 0 0 0 0 0 0 0 \n",
            "\n"
          ]
        }
      ]
    },
    {
      "cell_type": "markdown",
      "source": [
        "Square root cost structure, factor value = 1"
      ],
      "metadata": {
        "id": "iOUHVYz8SiCX"
      }
    },
    {
      "cell_type": "code",
      "source": [
        "MDP(lam = 0.2763, mu = 0.2829, eps = 0.1718, numRescue=10, numTerror=10,costT=1, RC='SR',mult=1)"
      ],
      "metadata": {
        "colab": {
          "base_uri": "https://localhost:8080/",
          "height": 66
        },
        "id": "Xr3fl6U1Silz",
        "outputId": "8d2c5cfb-4bb3-4b08-c0d2-9d48e70215d4"
      },
      "execution_count": null,
      "outputs": [
        {
          "output_type": "display_data",
          "data": {
            "text/html": [
              "<table class=\"dataframe\">\n",
              "<caption>A matrix: 1 × 11 of type dbl</caption>\n",
              "<tbody>\n",
              "\t<tr><td>0</td><td>0</td><td>0</td><td>3</td><td>4</td><td>5</td><td>6</td><td>7</td><td>8</td><td>9</td><td>10</td></tr>\n",
              "</tbody>\n",
              "</table>\n"
            ],
            "text/markdown": "\nA matrix: 1 × 11 of type dbl\n\n| 0 | 0 | 0 | 3 | 4 | 5 | 6 | 7 | 8 | 9 | 10 |\n\n",
            "text/latex": "A matrix: 1 × 11 of type dbl\n\\begin{tabular}{lllllllllll}\n\t 0 & 0 & 0 & 3 & 4 & 5 & 6 & 7 & 8 & 9 & 10\\\\\n\\end{tabular}\n",
            "text/plain": [
              "     [,1] [,2] [,3] [,4] [,5] [,6] [,7] [,8] [,9] [,10] [,11]\n",
              "[1,] 0    0    0    3    4    5    6    7    8    9     10   "
            ]
          },
          "metadata": {}
        }
      ]
    },
    {
      "cell_type": "markdown",
      "source": [
        "Quadratic cost structure, different factor values"
      ],
      "metadata": {
        "id": "7NXSg4LLT1mA"
      }
    },
    {
      "cell_type": "code",
      "source": [
        "mult_test(1,'Q',0,100,0.01)"
      ],
      "metadata": {
        "colab": {
          "base_uri": "https://localhost:8080/"
        },
        "id": "VdCJy504TgEJ",
        "outputId": "c489cca0-1311-441f-bfb1-75c16f5acd99"
      },
      "execution_count": null,
      "outputs": [
        {
          "output_type": "stream",
          "name": "stdout",
          "text": [
            "mult: 0 , RC: Q , \n",
            "\n",
            "0 1 2 3 4 5 6 7 8 9 10 \n",
            "\n",
            "mult: 0.02 , RC: Q , \n",
            "\n",
            "0 1 2 3 4 5 6 7 8 9 9 \n",
            "\n",
            "mult: 0.03 , RC: Q , \n",
            "\n",
            "0 1 2 3 4 5 6 6 6 7 6 \n",
            "\n",
            "mult: 0.04 , RC: Q , \n",
            "\n",
            "0 1 2 3 4 5 5 5 5 5 5 \n",
            "\n",
            "mult: 0.05 , RC: Q , \n",
            "\n",
            "0 1 2 3 4 4 4 4 5 5 4 \n",
            "\n",
            "mult: 0.06 , RC: Q , \n",
            "\n",
            "0 1 2 3 3 4 4 4 4 4 4 \n",
            "\n",
            "mult: 0.07 , RC: Q , \n",
            "\n",
            "0 1 2 3 3 3 3 3 3 4 3 \n",
            "\n",
            "mult: 0.08 , RC: Q , \n",
            "\n",
            "0 1 2 3 3 3 3 3 3 3 3 \n",
            "\n",
            "mult: 0.09 , RC: Q , \n",
            "\n",
            "0 1 2 2 3 3 3 3 3 3 3 \n",
            "\n",
            "mult: 0.1 , RC: Q , \n",
            "\n",
            "0 1 2 2 2 2 3 3 3 3 2 \n",
            "\n",
            "mult: 0.11 , RC: Q , \n",
            "\n",
            "0 1 2 2 2 2 2 2 2 2 2 \n",
            "\n",
            "mult: 0.16 , RC: Q , \n",
            "\n",
            "0 1 1 2 2 2 2 2 2 2 2 \n",
            "\n",
            "mult: 0.17 , RC: Q , \n",
            "\n",
            "0 1 1 1 2 2 2 2 2 2 1 \n",
            "\n",
            "mult: 0.18 , RC: Q , \n",
            "\n",
            "0 1 1 1 1 2 2 2 2 2 1 \n",
            "\n",
            "mult: 0.19 , RC: Q , \n",
            "\n",
            "0 1 1 1 1 1 1 2 2 2 1 \n",
            "\n",
            "mult: 0.2 , RC: Q , \n",
            "\n",
            "0 1 1 1 1 1 1 1 1 1 1 \n",
            "\n",
            "mult: 0.53 , RC: Q , \n",
            "\n",
            "0 1 1 1 1 1 1 1 1 1 0 \n",
            "\n",
            "mult: 0.61 , RC: Q , \n",
            "\n",
            "0 1 1 1 1 1 1 1 1 0 0 \n",
            "\n",
            "mult: 0.62 , RC: Q , \n",
            "\n",
            "0 1 1 1 1 1 1 1 0 0 0 \n",
            "\n",
            "mult: 0.63 , RC: Q , \n",
            "\n",
            "0 0 0 0 0 0 0 0 0 0 0 \n",
            "\n"
          ]
        }
      ]
    },
    {
      "cell_type": "markdown",
      "source": [
        "Quadratic cost structure, factor value = 1"
      ],
      "metadata": {
        "id": "GCzEeneVT6ia"
      }
    },
    {
      "cell_type": "code",
      "source": [
        "MDP(lam = 0.2763, mu = 0.2829, eps = 0.1718, numRescue=10, numTerror=10,costT=1, RC='Q',mult=1)"
      ],
      "metadata": {
        "colab": {
          "base_uri": "https://localhost:8080/",
          "height": 66
        },
        "id": "N7tcZlL7TsJm",
        "outputId": "086ad8f7-2bfa-4931-9f52-2de2f6c7f9c9"
      },
      "execution_count": null,
      "outputs": [
        {
          "output_type": "display_data",
          "data": {
            "text/html": [
              "<table class=\"dataframe\">\n",
              "<caption>A matrix: 1 × 11 of type dbl</caption>\n",
              "<tbody>\n",
              "\t<tr><td>0</td><td>0</td><td>0</td><td>0</td><td>0</td><td>0</td><td>0</td><td>0</td><td>0</td><td>0</td><td>0</td></tr>\n",
              "</tbody>\n",
              "</table>\n"
            ],
            "text/markdown": "\nA matrix: 1 × 11 of type dbl\n\n| 0 | 0 | 0 | 0 | 0 | 0 | 0 | 0 | 0 | 0 | 0 |\n\n",
            "text/latex": "A matrix: 1 × 11 of type dbl\n\\begin{tabular}{lllllllllll}\n\t 0 & 0 & 0 & 0 & 0 & 0 & 0 & 0 & 0 & 0 & 0\\\\\n\\end{tabular}\n",
            "text/plain": [
              "     [,1] [,2] [,3] [,4] [,5] [,6] [,7] [,8] [,9] [,10] [,11]\n",
              "[1,] 0    0    0    0    0    0    0    0    0    0     0    "
            ]
          },
          "metadata": {}
        }
      ]
    }
  ]
}
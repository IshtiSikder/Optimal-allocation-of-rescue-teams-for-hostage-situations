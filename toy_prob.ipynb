{
  "nbformat": 4,
  "nbformat_minor": 0,
  "metadata": {
    "colab": {
      "provenance": [],
      "authorship_tag": "ABX9TyMEa2mLPLVraT1E5QnQexDn",
      "include_colab_link": true
    },
    "kernelspec": {
      "name": "ir",
      "display_name": "R"
    },
    "language_info": {
      "name": "R"
    }
  },
  "cells": [
    {
      "cell_type": "markdown",
      "metadata": {
        "id": "view-in-github",
        "colab_type": "text"
      },
      "source": [
        "<a href=\"https://colab.research.google.com/github/IshtiSikder/Optimal-allocation-of-rescue-teams-for-hostage-situations/blob/test/toy_prob.ipynb\" target=\"_parent\"><img src=\"https://colab.research.google.com/assets/colab-badge.svg\" alt=\"Open In Colab\"/></a>"
      ]
    },
    {
      "cell_type": "code",
      "source": [
        "prob <- function(opSet = policySet, t, lam, eps, mu) {\n",
        "  opTRM = matrix(0, nrow = t+1, ncol = t+1)\n",
        "  for (i in 2:t) {\n",
        "    opTRM[i, i-1] = sum(i*eps, opSet[i]*mu)\n",
        "    opTRM[i, i+1] = lam      \n",
        "  }\n",
        "  opTRM[1, 2] = lam\n",
        "  opTRM[t+1, t] = sum(t*eps, opSet[t+1]*mu)\n",
        "  \n",
        "  k = t+1\n",
        "  steady_prob <- matrix(0, nrow=1, ncol=k)\n",
        "  state <- matrix(0, nrow=1, ncol=k-1)\n",
        "  for (i in 1:(k-1)) {\n",
        "    if (i-2 < 0) {\n",
        "      state[i] <- (lam/opTRM[i+1,i])\n",
        "    } else {\n",
        "      state[i] <- state[i-1]*(lam/opTRM[i+1,i])\n",
        "    }\n",
        "  }\n",
        "  \n",
        "  steady_prob[1] <- (1+sum(state))^-1\n",
        "  for (i in 2:k) {\n",
        "    steady_prob[i] <- state[i-1]*steady_prob[1]\n",
        "  }\n",
        "  return(steady_prob)\n",
        "}"
      ],
      "metadata": {
        "id": "YxYWwlMGxdwL"
      },
      "execution_count": 48,
      "outputs": []
    },
    {
      "cell_type": "code",
      "source": [
        "checkPolicy = function(policySet, policySetnew) {\n",
        "  n = 0\n",
        "  for (i in policySet == policySetnew) {\n",
        "    if (i == 'FALSE') {\n",
        "      n = 1\n",
        "    } \n",
        "  } \n",
        "  if (n == 0) {\n",
        "    return(\"TRUE\")\n",
        "  } else {\n",
        "    return(\"FALSE\")\n",
        "  }\n",
        "} "
      ],
      "metadata": {
        "id": "FgsfEzpP8EU1"
      },
      "execution_count": 49,
      "outputs": []
    },
    {
      "cell_type": "code",
      "execution_count": 84,
      "metadata": {
        "id": "7n9IBTFJ1rHv"
      },
      "outputs": [],
      "source": [
        "t = 2\n",
        "r = 2\n",
        "lam = 0.2763\n",
        "mu = 0.2829\n",
        "eps = 0.1718\n",
        "\n",
        "costT = 1\n",
        "mult = 0.001\n",
        "\n",
        "costR = mult*costT*(mu+eps)"
      ]
    },
    {
      "cell_type": "code",
      "source": [
        "aijMatrix = array(0, dim = c(t+1,t+1,r+1))\n",
        "  \n",
        "for (k in 1:(r+1)) {\n",
        "  for (i in 1:t) {\n",
        "    aijMatrix[i,i+1,k] <- lam\n",
        "      if (i > 1) {\n",
        "        \n",
        "        aijMatrix[i,i-1,k] <- sum(min(k-1,i-1)*mu+(i-1)*eps)        \n",
        "      }\n",
        "    }\n",
        "aijMatrix[t+1,t,k] <- (min(k-1,t)*mu+t*eps)\n",
        "aijMatrix[1,2,k] <- lam\n",
        "}\n",
        "\n",
        "for (k in 1:(r+1)) {\n",
        "  for (i in 1:(t+1)) {\n",
        "      \n",
        "      aijMatrix[i,i,k] <- -sum(aijMatrix[i,,k])      \n",
        "    }\n",
        "  }"
      ],
      "metadata": {
        "id": "j9FWxNZdzWX3"
      },
      "execution_count": 85,
      "outputs": []
    },
    {
      "cell_type": "code",
      "source": [
        "print(aijMatrix)"
      ],
      "metadata": {
        "colab": {
          "base_uri": "https://localhost:8080/"
        },
        "id": "mDmYHYMh1z2Y",
        "outputId": "394abdcd-c145-48f3-ab9a-180f27627f83"
      },
      "execution_count": 86,
      "outputs": [
        {
          "output_type": "stream",
          "name": "stdout",
          "text": [
            ", , 1\n",
            "\n",
            "        [,1]    [,2]    [,3]\n",
            "[1,] -0.2763  0.2763  0.0000\n",
            "[2,]  0.1718 -0.4481  0.2763\n",
            "[3,]  0.0000  0.3436 -0.3436\n",
            "\n",
            ", , 2\n",
            "\n",
            "        [,1]    [,2]    [,3]\n",
            "[1,] -0.2763  0.2763  0.0000\n",
            "[2,]  0.4547 -0.7310  0.2763\n",
            "[3,]  0.0000  0.6265 -0.6265\n",
            "\n",
            ", , 3\n",
            "\n",
            "        [,1]    [,2]    [,3]\n",
            "[1,] -0.2763  0.2763  0.0000\n",
            "[2,]  0.4547 -0.7310  0.2763\n",
            "[3,]  0.0000  0.9094 -0.9094\n",
            "\n"
          ]
        }
      ]
    },
    {
      "cell_type": "code",
      "source": [
        "policyOld = array(1, dim = c(1,t+1))\n",
        "policyNew = array(3, dim=c(1,t+1))"
      ],
      "metadata": {
        "id": "K8hhWNtM7yVi"
      },
      "execution_count": 87,
      "outputs": []
    },
    {
      "cell_type": "code",
      "source": [
        "cat(policyOld,'\\n\\n')\n",
        "cat(policyNew)"
      ],
      "metadata": {
        "colab": {
          "base_uri": "https://localhost:8080/"
        },
        "id": "bHwzFUdW8mlg",
        "outputId": "2f9285db-1f9f-40b1-b893-ff75b40454f7"
      },
      "execution_count": 88,
      "outputs": [
        {
          "output_type": "stream",
          "name": "stdout",
          "text": [
            "1 1 1 \n",
            "\n",
            "3 3 3"
          ]
        }
      ]
    },
    {
      "cell_type": "code",
      "source": [
        "policyOld = policyNew\n",
        "policy = policyNew\n",
        "\n",
        "A = array(0, dim = c(t+1,t+1))\n",
        "    for (i in 1:length(policy)) {\n",
        "      A[i,] = aijMatrix[i,,(policy[i])]  \n",
        "    }\n",
        "newA = cbind(array(1, dim=c(t+1,1)), -A[,1:t])\n",
        "\n",
        "newA"
      ],
      "metadata": {
        "colab": {
          "base_uri": "https://localhost:8080/",
          "height": 146
        },
        "id": "DLuo9AW48HCB",
        "outputId": "2ab0ff83-3165-467f-87a9-68ef88308f0c"
      },
      "execution_count": 89,
      "outputs": [
        {
          "output_type": "display_data",
          "data": {
            "text/html": [
              "<table class=\"dataframe\">\n",
              "<caption>A matrix: 3 × 3 of type dbl</caption>\n",
              "<tbody>\n",
              "\t<tr><td>1</td><td> 0.2763</td><td>-0.2763</td></tr>\n",
              "\t<tr><td>1</td><td>-0.4547</td><td> 0.7310</td></tr>\n",
              "\t<tr><td>1</td><td> 0.0000</td><td>-0.9094</td></tr>\n",
              "</tbody>\n",
              "</table>\n"
            ],
            "text/markdown": "\nA matrix: 3 × 3 of type dbl\n\n| 1 |  0.2763 | -0.2763 |\n| 1 | -0.4547 |  0.7310 |\n| 1 |  0.0000 | -0.9094 |\n\n",
            "text/latex": "A matrix: 3 × 3 of type dbl\n\\begin{tabular}{lll}\n\t 1 &  0.2763 & -0.2763\\\\\n\t 1 & -0.4547 &  0.7310\\\\\n\t 1 &  0.0000 & -0.9094\\\\\n\\end{tabular}\n",
            "text/plain": [
              "     [,1] [,2]    [,3]   \n",
              "[1,] 1     0.2763 -0.2763\n",
              "[2,] 1    -0.4547  0.7310\n",
              "[3,] 1     0.0000 -0.9094"
            ]
          },
          "metadata": {}
        }
      ]
    },
    {
      "cell_type": "code",
      "source": [
        "2*costR + 2*eps*costT"
      ],
      "metadata": {
        "colab": {
          "base_uri": "https://localhost:8080/",
          "height": 34
        },
        "id": "NgfA7IZ49fPt",
        "outputId": "69057247-0373-458e-e7bb-44c78bbb5941"
      },
      "execution_count": 68,
      "outputs": [
        {
          "output_type": "display_data",
          "data": {
            "text/html": [
              "0.634608"
            ],
            "text/markdown": "0.634608",
            "text/latex": "0.634608",
            "text/plain": [
              "[1] 0.634608"
            ]
          },
          "metadata": {}
        }
      ]
    },
    {
      "cell_type": "code",
      "source": [
        "q = array(0,dim=c(t+1,1))\n",
        "\n",
        "for (i in 1:length(policy)) {\n",
        "\n",
        "      q[i,1] = (policy[i]-1)*costR + (i-1)*eps*costT\n",
        "\n",
        "}\n",
        "\n",
        "q"
      ],
      "metadata": {
        "colab": {
          "base_uri": "https://localhost:8080/",
          "height": 146
        },
        "id": "qH8m5j7q8YQU",
        "outputId": "5fc594c4-ad73-4cfa-d437-0048816c2f7d"
      },
      "execution_count": 90,
      "outputs": [
        {
          "output_type": "display_data",
          "data": {
            "text/html": [
              "<table class=\"dataframe\">\n",
              "<caption>A matrix: 3 × 1 of type dbl</caption>\n",
              "<tbody>\n",
              "\t<tr><td>0.0009094</td></tr>\n",
              "\t<tr><td>0.1727094</td></tr>\n",
              "\t<tr><td>0.3445094</td></tr>\n",
              "</tbody>\n",
              "</table>\n"
            ],
            "text/markdown": "\nA matrix: 3 × 1 of type dbl\n\n| 0.0009094 |\n| 0.1727094 |\n| 0.3445094 |\n\n",
            "text/latex": "A matrix: 3 × 1 of type dbl\n\\begin{tabular}{l}\n\t 0.0009094\\\\\n\t 0.1727094\\\\\n\t 0.3445094\\\\\n\\end{tabular}\n",
            "text/plain": [
              "     [,1]     \n",
              "[1,] 0.0009094\n",
              "[2,] 0.1727094\n",
              "[3,] 0.3445094"
            ]
          },
          "metadata": {}
        }
      ]
    },
    {
      "cell_type": "code",
      "source": [
        "solution = solve(newA) %*% q\n",
        "\n",
        " newsolution = array(0, dim=c(t+1,1))\n",
        "    \n",
        "    for (i in 1:t) {\n",
        "      newsolution[i] = solution[i+1]\n",
        "    }\n",
        "newsolution[t+1] = 0\n",
        "\n",
        "gain = solution[1]\n",
        "\n",
        "newsolution"
      ],
      "metadata": {
        "colab": {
          "base_uri": "https://localhost:8080/",
          "height": 146
        },
        "id": "pVlXomQV9nTo",
        "outputId": "350bd5bf-8fa1-415e-d593-09b22dc0dde9"
      },
      "execution_count": 91,
      "outputs": [
        {
          "output_type": "display_data",
          "data": {
            "text/html": [
              "<table class=\"dataframe\">\n",
              "<caption>A matrix: 3 × 1 of type dbl</caption>\n",
              "<tbody>\n",
              "\t<tr><td>-0.6137725</td></tr>\n",
              "\t<tr><td>-0.2748612</td></tr>\n",
              "\t<tr><td> 0.0000000</td></tr>\n",
              "</tbody>\n",
              "</table>\n"
            ],
            "text/markdown": "\nA matrix: 3 × 1 of type dbl\n\n| -0.6137725 |\n| -0.2748612 |\n|  0.0000000 |\n\n",
            "text/latex": "A matrix: 3 × 1 of type dbl\n\\begin{tabular}{l}\n\t -0.6137725\\\\\n\t -0.2748612\\\\\n\t  0.0000000\\\\\n\\end{tabular}\n",
            "text/plain": [
              "     [,1]      \n",
              "[1,] -0.6137725\n",
              "[2,] -0.2748612\n",
              "[3,]  0.0000000"
            ]
          },
          "metadata": {}
        }
      ]
    },
    {
      "cell_type": "code",
      "source": [
        "gain"
      ],
      "metadata": {
        "colab": {
          "base_uri": "https://localhost:8080/",
          "height": 34
        },
        "id": "SlOy6bpSxzbY",
        "outputId": "92cc5e62-da7b-48c4-97fc-a1fa30d6a312"
      },
      "execution_count": 92,
      "outputs": [
        {
          "output_type": "display_data",
          "data": {
            "text/html": [
              "0.094550591899606"
            ],
            "text/markdown": "0.094550591899606",
            "text/latex": "0.094550591899606",
            "text/plain": [
              "[1] 0.09455059"
            ]
          },
          "metadata": {}
        }
      ]
    },
    {
      "cell_type": "code",
      "source": [
        "improveMatrix = array(0, dim=c(t+1,r+1))\n",
        "cost = array(0,dim=c(t+1,r+1))\n",
        "\n",
        "    for (i in 1:(t+1)) {\n",
        "      for (j in 1:(r+1)) {\n",
        "        # Cost when we have j rescue operation and i terrorists\n",
        "\n",
        "      cost[i,j] = (j-1)*costR + (i-1)*eps*costT\n",
        "      \n",
        "      improveMatrix[i,j] = cost[i,j] + aijMatrix[i,,j] %*% newsolution\n",
        "\n",
        "      }\n",
        "    }  \n",
        "\n",
        "improveMatrix"
      ],
      "metadata": {
        "colab": {
          "base_uri": "https://localhost:8080/",
          "height": 128
        },
        "id": "pm0hnY8ICNsL",
        "outputId": "8f332819-12bb-4d53-dad0-7ef1f67be818"
      },
      "execution_count": 93,
      "outputs": [
        {
          "output_type": "display_data",
          "data": {
            "text/html": [
              "<table class=\"dataframe\">\n",
              "<caption>A matrix: 3 × 3 of type dbl</caption>\n",
              "<tbody>\n",
              "\t<tr><td>0.09364119</td><td>0.09409589</td><td>0.09455059</td></tr>\n",
              "\t<tr><td>0.18951920</td><td>0.09409589</td><td>0.09455059</td></tr>\n",
              "\t<tr><td>0.24915768</td><td>0.17185414</td><td>0.09455059</td></tr>\n",
              "</tbody>\n",
              "</table>\n"
            ],
            "text/markdown": "\nA matrix: 3 × 3 of type dbl\n\n| 0.09364119 | 0.09409589 | 0.09455059 |\n| 0.18951920 | 0.09409589 | 0.09455059 |\n| 0.24915768 | 0.17185414 | 0.09455059 |\n\n",
            "text/latex": "A matrix: 3 × 3 of type dbl\n\\begin{tabular}{lll}\n\t 0.09364119 & 0.09409589 & 0.09455059\\\\\n\t 0.18951920 & 0.09409589 & 0.09455059\\\\\n\t 0.24915768 & 0.17185414 & 0.09455059\\\\\n\\end{tabular}\n",
            "text/plain": [
              "     [,1]       [,2]       [,3]      \n",
              "[1,] 0.09364119 0.09409589 0.09455059\n",
              "[2,] 0.18951920 0.09409589 0.09455059\n",
              "[3,] 0.24915768 0.17185414 0.09455059"
            ]
          },
          "metadata": {}
        }
      ]
    },
    {
      "cell_type": "code",
      "source": [
        "for (i in 1:length(policyNew)) {\n",
        "      policyNew[i] = which.min(improveMatrix[i,])\n",
        "    }\n",
        "\n",
        "policyNew"
      ],
      "metadata": {
        "colab": {
          "base_uri": "https://localhost:8080/",
          "height": 100
        },
        "id": "S8K5PdCCJQdU",
        "outputId": "643957d6-ca81-4735-9bb1-a869144ac2f6"
      },
      "execution_count": 94,
      "outputs": [
        {
          "output_type": "display_data",
          "data": {
            "text/html": [
              "<table class=\"dataframe\">\n",
              "<caption>A matrix: 1 × 3 of type dbl</caption>\n",
              "<tbody>\n",
              "\t<tr><td>1</td><td>2</td><td>3</td></tr>\n",
              "</tbody>\n",
              "</table>\n"
            ],
            "text/markdown": "\nA matrix: 1 × 3 of type dbl\n\n| 1 | 2 | 3 |\n\n",
            "text/latex": "A matrix: 1 × 3 of type dbl\n\\begin{tabular}{lll}\n\t 1 & 2 & 3\\\\\n\\end{tabular}\n",
            "text/plain": [
              "     [,1] [,2] [,3]\n",
              "[1,] 1    2    3   "
            ]
          },
          "metadata": {}
        }
      ]
    },
    {
      "cell_type": "code",
      "source": [
        "prob(opSet = policyNew, t=2, lam = 0.2763, eps = 0.1718, mu = 0.2829)"
      ],
      "metadata": {
        "colab": {
          "base_uri": "https://localhost:8080/",
          "height": 66
        },
        "id": "_AWYuL8Rx_13",
        "outputId": "bfec35a1-f189-46ef-8e22-772d2e365147"
      },
      "execution_count": 15,
      "outputs": [
        {
          "output_type": "display_data",
          "data": {
            "text/html": [
              "<table class=\"dataframe\">\n",
              "<caption>A matrix: 1 × 3 of type dbl</caption>\n",
              "<tbody>\n",
              "\t<tr><td>0.695497</td><td>0.2113105</td><td>0.0931925</td></tr>\n",
              "</tbody>\n",
              "</table>\n"
            ],
            "text/markdown": "\nA matrix: 1 × 3 of type dbl\n\n| 0.695497 | 0.2113105 | 0.0931925 |\n\n",
            "text/latex": "A matrix: 1 × 3 of type dbl\n\\begin{tabular}{lll}\n\t 0.695497 & 0.2113105 & 0.0931925\\\\\n\\end{tabular}\n",
            "text/plain": [
              "     [,1]     [,2]      [,3]     \n",
              "[1,] 0.695497 0.2113105 0.0931925"
            ]
          },
          "metadata": {}
        }
      ]
    },
    {
      "cell_type": "code",
      "execution_count": 105,
      "metadata": {
        "id": "E5HaHsPMkj2L"
      },
      "outputs": [],
      "source": [
        "# CTMC MDP model for rescue operational system!!!\n",
        "\n",
        "prob <- function(opSet = policySet, t, lam, eps, mu) {\n",
        "  opTRM = matrix(0, nrow = t+1, ncol = t+1)\n",
        "  for (i in 2:t) {\n",
        "    opTRM[i, i-1] = sum(i*eps, opSet[i]*mu)\n",
        "    opTRM[i, i+1] = lam      \n",
        "  }\n",
        "  opTRM[1, 2] = lam\n",
        "  opTRM[t+1, t] = sum(t*eps, opSet[t+1]*mu)\n",
        "  \n",
        "  k = t+1\n",
        "  steady_prob <- matrix(0, nrow=1, ncol=k)\n",
        "  state <- matrix(0, nrow=1, ncol=k-1)\n",
        "  for (i in 1:(k-1)) {\n",
        "    if (i-2 < 0) {\n",
        "      state[i] <- (lam/opTRM[i+1,i])\n",
        "    } else {\n",
        "      state[i] <- state[i-1]*(lam/opTRM[i+1,i])\n",
        "    }\n",
        "  }\n",
        "  \n",
        "  steady_prob[1] <- (1+sum(state))^-1\n",
        "  for (i in 2:k) {\n",
        "    steady_prob[i] <- state[i-1]*steady_prob[1]\n",
        "  }\n",
        "  return(steady_prob)\n",
        "}\n",
        "\n",
        "\n",
        "\n",
        "\n",
        "# Check function to determine new policy is same with current or not \n",
        "checkPolicy = function(policySet, policySetnew) {\n",
        "  n = 0\n",
        "  for (i in policySet == policySetnew) {\n",
        "    if (i == 'FALSE') {\n",
        "      n = 1\n",
        "    } \n",
        "  } \n",
        "  if (n == 0) {\n",
        "    return(\"TRUE\")\n",
        "  } else {\n",
        "    return(\"FALSE\")\n",
        "  }\n",
        "} \n",
        "\n",
        "\n",
        "# Define MDP function (for basic policy)\n",
        "MDP = function(lam, mu, eps, numRescue, numTerror, costT, RC, mult) {\n",
        "  r = numRescue\n",
        "  t = numTerror\n",
        "  \n",
        "  #calculating costR\n",
        "\n",
        "  costR = mult*costT*(mu+eps)\n",
        "\n",
        "\n",
        "  #########################################################\n",
        "  #EDITS: 22ND FEB,2023\n",
        "  #NEW SERVICE RATES STRUCTURE, ADD ORIGINAL ONE AS WELL\n",
        "  aijMatrix = array(0, dim = c(t+1,t+1,r+1))\n",
        "  for (k in 1:(r+1)) {\n",
        "    for (i in 1:t) {\n",
        "      aijMatrix[i,i+1,k] <- lam\n",
        "      if (i > 1) {\n",
        "        #if (k==4){\n",
        "          #if(i==4){\n",
        "            #cat('min(k-1,i-1)',min(k-1,i-1))}}\n",
        "        aijMatrix[i,i-1,k] <- sum(min(k-1,i-1)*mu+(i-1)*eps)        \n",
        "      }\n",
        "    }\n",
        "    aijMatrix[t+1,t,k] <- (min(k-1,t)*mu+t*eps)\n",
        "    aijMatrix[1,2,k] <- lam\n",
        "}\n",
        "\n",
        "  for (k in 1:(r+1)) {\n",
        "    for (i in 1:(t+1)) {\n",
        "      \n",
        "      aijMatrix[i,i,k] <- -sum(aijMatrix[i,,k])      \n",
        "    }\n",
        "  }\n",
        "  #########################################################\n",
        "  \n",
        "  \n",
        "  # Design the MDP algorithm\n",
        "  # Value determination\n",
        "  policy = array(0, dim = c(1,t+1)) \n",
        "  policyOld = array(0, dim = c(1,t+1))\n",
        "  policyNew = array(1, dim=c(1,t+1)) # initially set all decision is 1 in first policy\n",
        "  policyTrack = array(2, dim=c(1,t+1))\n",
        "  iteration = 0\n",
        "  gainMatrix = c()\n",
        "  \n",
        "  while (checkPolicy(policyOld, policyNew) == 'FALSE') {\n",
        "    policyOld = policyNew\n",
        "    policy = policyNew\n",
        "    # Design the transition matrix regarding policy\n",
        "    A = array(0, dim = c(t+1,t+1))\n",
        "    for (i in 1:length(policy)) {\n",
        "      A[i,] = aijMatrix[i,,(policy[i])]  \n",
        "    }\n",
        "\n",
        "    # Design the cost matrix regarding policy\n",
        "\n",
        "    q = array(0,dim=c(t+1,1))\n",
        "    for (i in 1:length(policy)) {\n",
        "\n",
        "      if (RC == 'L'){\n",
        "      cost = (policy[i]-1)*costR + (i-1)*eps*costT\n",
        "      }\n",
        "\n",
        "      if (RC == 'SR'){\n",
        "      cost = sqrt(policy[i]-1)*costR + (i-1)*eps*costT\n",
        "      }\n",
        "\n",
        "      if (RC == 'Q'){\n",
        "      cost = ((policy[i]-1)^2)*costR + (i-1)*eps*costT\n",
        "      }\n",
        "\n",
        "      q[i,1] = cost\n",
        "    }\n",
        "\n",
        "\n",
        "    newA = cbind(array(1, dim=c(t+1,1)), -A[,1:t])\n",
        "    solution = solve(newA) %*% q\n",
        "    gain = solution[1] # First row of solution is gain value\n",
        "    gainMatrix = append(gainMatrix, gain)\n",
        "    \n",
        "    # Policy improvement\n",
        "    newsolution = array(0, dim=c(t+1,1))\n",
        "    for (i in 1:t) {\n",
        "      newsolution[i] = solution[i+1]\n",
        "    }\n",
        "\n",
        "\n",
        "    newsolution[t+1] = 0 # Set last v value as 0 to calcultate the test quantity in policy improvement\n",
        "    improveMatrix = array(0, dim=c(t+1,r+1))\n",
        "    cost = array(0,dim=c(t+1,r+1))\n",
        "\n",
        "    for (i in 1:(t+1)) {\n",
        "      for (j in 1:(r+1)) {\n",
        "        # Cost when we have j rescue operation and i terrorists\n",
        "\n",
        "        if (RC == 'L'){\n",
        "      cost[i,j] = (j-1)*costR + (i-1)*eps*costT\n",
        "      }\n",
        "\n",
        "      if (RC == 'SR'){\n",
        "      cost[i,j] = sqrt(j-1)*costR + (i-1)*eps*costT\n",
        "      }\n",
        "\n",
        "      if (RC == 'Q'){\n",
        "      cost[i,j] = ((j-1)^2)*costR + (i-1)*eps*costT\n",
        "      }\n",
        "\n",
        "        improveMatrix[i,j] = cost[i,j] + aijMatrix[i,,j] %*% newsolution\n",
        "\n",
        "      }\n",
        "    }  \n",
        "    \n",
        "    # pick the minimum value among the decision\n",
        "    policyNew = array(1, dim = c(1,t+1))\n",
        "    for (i in 1:length(policyNew)) {\n",
        "      policyNew[i] = which.min(improveMatrix[i,])\n",
        "    }\n",
        "    iteration = iteration + 1\n",
        "    policyTrack = rbind(policyTrack, policyNew)\n",
        "    policyNew\n",
        "  }\n",
        "  for (i in 1:length(policyNew)) {\n",
        "    policyNew[i] = policyNew[i] - 1\n",
        "  }\n",
        "  for (i in 1:nrow(policyTrack)) {\n",
        "    for (j in 1:ncol(policyTrack)) {\n",
        "      policyTrack[i,j] = policyTrack[i,j] - 1      \n",
        "    }\n",
        "\n",
        "  steady = prob(opSet = policyNew, t=numTerror, lam = lam, eps = eps, mu = mu)\n",
        "\n",
        "  gain = solution[1]\n",
        "\n",
        "  }\n",
        "\n",
        "  \n",
        "   #return(list(policyNew,improveMatrix,cost,aijMatrix,newsolution))\n",
        "\n",
        "   return (policyNew)\n",
        " \n",
        " }"
      ]
    },
    {
      "cell_type": "code",
      "source": [
        "MDP(lam=0.2763, mu=0.2829, eps=0.1718, numRescue=2, numTerror=2, costT=1, RC='L', mult=0.32)"
      ],
      "metadata": {
        "colab": {
          "base_uri": "https://localhost:8080/",
          "height": 100
        },
        "id": "lIFLfHdXFMVs",
        "outputId": "20793468-676d-45f3-b7b1-bfc890c79521"
      },
      "execution_count": 106,
      "outputs": [
        {
          "output_type": "display_data",
          "data": {
            "text/html": [
              "<table class=\"dataframe\">\n",
              "<caption>A matrix: 1 × 3 of type dbl</caption>\n",
              "<tbody>\n",
              "\t<tr><td>0</td><td>1</td><td>0</td></tr>\n",
              "</tbody>\n",
              "</table>\n"
            ],
            "text/markdown": "\nA matrix: 1 × 3 of type dbl\n\n| 0 | 1 | 0 |\n\n",
            "text/latex": "A matrix: 1 × 3 of type dbl\n\\begin{tabular}{lll}\n\t 0 & 1 & 0\\\\\n\\end{tabular}\n",
            "text/plain": [
              "     [,1] [,2] [,3]\n",
              "[1,] 0    1    0   "
            ]
          },
          "metadata": {}
        }
      ]
    },
    {
      "cell_type": "code",
      "source": [
        "mult_test = function(cost_terror,rc,low_lim,up_lim,incr) {\n",
        "\n",
        "prev_result = array(100,dim=c(1,11))\n",
        "\n",
        "for (val in seq(low_lim,up_lim, by = incr)){\n",
        "\n",
        "        current_result = MDP(lam = 0.2763, mu = 0.2829, eps = 0.1718, numRescue=2, numTerror=2, costT=cost_terror, RC=rc, mult=val)\n",
        "     \n",
        "         \n",
        "        if (!(identical(current_result,prev_result))) {\n",
        "\n",
        "          cat('\\n\\n','mult:',val,',','RC:',rc,',','\\n\\n')\n",
        "          cat('optimal policy:\\n')\n",
        "          print(current_result)\n",
        "\n",
        "\n",
        "          prev_result = current_result\n",
        "\n",
        "        }\n",
        "\n",
        "    }\n",
        "\n",
        "}"
      ],
      "metadata": {
        "id": "JjzdMwh6FbMD"
      },
      "execution_count": 113,
      "outputs": []
    },
    {
      "cell_type": "code",
      "source": [
        "#lowest possible increment possible in R is 0.00000000001, or 10^-11\n",
        "\n",
        "\n",
        "\n",
        "mult_test(1,'L',0.31,0.32,0.00000000001)\n",
        "\n",
        "\n"
      ],
      "metadata": {
        "id": "ATWHG_3oF55A"
      },
      "execution_count": null,
      "outputs": []
    },
    {
      "cell_type": "code",
      "source": [],
      "metadata": {
        "colab": {
          "base_uri": "https://localhost:8080/",
          "height": 34
        },
        "id": "Mhi59CfF1Cia",
        "outputId": "f57c04e1-8708-4c98-e0c6-929326b71161"
      },
      "execution_count": 1,
      "outputs": [
        {
          "output_type": "display_data",
          "data": {
            "text/html": [
              "1e-09"
            ],
            "text/markdown": "1e-09",
            "text/latex": "1e-09",
            "text/plain": [
              "[1] 1e-09"
            ]
          },
          "metadata": {}
        }
      ]
    },
    {
      "cell_type": "code",
      "source": [
        "output = MDP(lam = 0.2763, mu = 0.2829, eps = 0.1718, numRescue=2, numTerror=2, costT=cost_terror, RC=rc, mult=val)"
      ],
      "metadata": {
        "id": "buglRmLsGEET"
      },
      "execution_count": null,
      "outputs": []
    }
  ]
}
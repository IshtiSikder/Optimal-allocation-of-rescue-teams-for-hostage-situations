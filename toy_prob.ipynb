{
  "nbformat": 4,
  "nbformat_minor": 0,
  "metadata": {
    "colab": {
      "provenance": [],
      "authorship_tag": "ABX9TyOt4ZUGP4Bn2yOG/6c9Wr+G",
      "include_colab_link": true
    },
    "kernelspec": {
      "name": "ir",
      "display_name": "R"
    },
    "language_info": {
      "name": "R"
    }
  },
  "cells": [
    {
      "cell_type": "markdown",
      "metadata": {
        "id": "view-in-github",
        "colab_type": "text"
      },
      "source": [
        "<a href=\"https://colab.research.google.com/github/IshtiSikder/Optimal-allocation-of-rescue-teams-for-hostage-situations/blob/test/toy_prob.ipynb\" target=\"_parent\"><img src=\"https://colab.research.google.com/assets/colab-badge.svg\" alt=\"Open In Colab\"/></a>"
      ]
    },
    {
      "cell_type": "code",
      "source": [
        "checkPolicy = function(policySet, policySetnew) {\n",
        "  n = 0\n",
        "  for (i in policySet == policySetnew) {\n",
        "    if (i == 'FALSE') {\n",
        "      n = 1\n",
        "    } \n",
        "  } \n",
        "  if (n == 0) {\n",
        "    return(\"TRUE\")\n",
        "  } else {\n",
        "    return(\"FALSE\")\n",
        "  }\n",
        "} "
      ],
      "metadata": {
        "id": "FgsfEzpP8EU1"
      },
      "execution_count": null,
      "outputs": []
    },
    {
      "cell_type": "code",
      "execution_count": null,
      "metadata": {
        "id": "7n9IBTFJ1rHv"
      },
      "outputs": [],
      "source": [
        "t = 2\n",
        "r = 2\n",
        "lam = 0.2763\n",
        "mu = 0.2829\n",
        "eps = 0.1718\n",
        "\n",
        "costT = 1\n",
        "mult = 0.32\n",
        "\n",
        "costR = mult*costT*(mu+eps)"
      ]
    },
    {
      "cell_type": "code",
      "source": [
        "aijMatrix = array(0, dim = c(t+1,t+1,r+1))\n",
        "  \n",
        "for (k in 1:(r+1)) {\n",
        "  for (i in 1:t) {\n",
        "    aijMatrix[i,i+1,k] <- lam\n",
        "      if (i > 1) {\n",
        "        \n",
        "        aijMatrix[i,i-1,k] <- sum(min(k-1,i-1)*mu+(i-1)*eps)        \n",
        "      }\n",
        "    }\n",
        "aijMatrix[t+1,t,k] <- (min(k-1,t)*mu+t*eps)\n",
        "aijMatrix[1,2,k] <- lam\n",
        "}\n",
        "\n",
        "for (k in 1:(r+1)) {\n",
        "  for (i in 1:(t+1)) {\n",
        "      \n",
        "      aijMatrix[i,i,k] <- -sum(aijMatrix[i,,k])      \n",
        "    }\n",
        "  }"
      ],
      "metadata": {
        "id": "j9FWxNZdzWX3"
      },
      "execution_count": null,
      "outputs": []
    },
    {
      "cell_type": "code",
      "source": [
        "print(aijMatrix)"
      ],
      "metadata": {
        "colab": {
          "base_uri": "https://localhost:8080/"
        },
        "id": "mDmYHYMh1z2Y",
        "outputId": "66490f05-04c9-470d-cbe8-20d04532a092"
      },
      "execution_count": null,
      "outputs": [
        {
          "output_type": "stream",
          "name": "stdout",
          "text": [
            ", , 1\n",
            "\n",
            "        [,1]    [,2]    [,3]\n",
            "[1,] -0.2763  0.2763  0.0000\n",
            "[2,]  0.1718 -0.4481  0.2763\n",
            "[3,]  0.0000  0.3436 -0.3436\n",
            "\n",
            ", , 2\n",
            "\n",
            "        [,1]    [,2]    [,3]\n",
            "[1,] -0.2763  0.2763  0.0000\n",
            "[2,]  0.4547 -0.7310  0.2763\n",
            "[3,]  0.0000  0.6265 -0.6265\n",
            "\n",
            ", , 3\n",
            "\n",
            "        [,1]    [,2]    [,3]\n",
            "[1,] -0.2763  0.2763  0.0000\n",
            "[2,]  0.4547 -0.7310  0.2763\n",
            "[3,]  0.0000  0.9094 -0.9094\n",
            "\n"
          ]
        }
      ]
    },
    {
      "cell_type": "code",
      "source": [
        "policyOld = array(3, dim = c(1,t+1))\n",
        "policyNew = array(1, dim=c(1,t+1))"
      ],
      "metadata": {
        "id": "K8hhWNtM7yVi"
      },
      "execution_count": null,
      "outputs": []
    },
    {
      "cell_type": "code",
      "source": [
        "cat(policyOld,'\\n\\n')\n",
        "cat(policyNew)"
      ],
      "metadata": {
        "colab": {
          "base_uri": "https://localhost:8080/"
        },
        "id": "bHwzFUdW8mlg",
        "outputId": "26c35d98-4202-47eb-d9af-3e9a668227f0"
      },
      "execution_count": null,
      "outputs": [
        {
          "output_type": "stream",
          "name": "stdout",
          "text": [
            "1 1 1 \n",
            "\n",
            "1 2 1"
          ]
        }
      ]
    },
    {
      "cell_type": "code",
      "source": [
        "policyOld = policyNew\n",
        "policy = policyNew\n",
        "\n",
        "A = array(0, dim = c(t+1,t+1))\n",
        "    for (i in 1:length(policy)) {\n",
        "      A[i,] = aijMatrix[i,,(policy[i])]  \n",
        "    }\n",
        "newA = cbind(array(1, dim=c(t+1,1)), -A[,1:t])\n",
        "\n",
        "newA"
      ],
      "metadata": {
        "colab": {
          "base_uri": "https://localhost:8080/",
          "height": 146
        },
        "id": "DLuo9AW48HCB",
        "outputId": "6817f0ae-e34c-4dd2-eae6-1a7e2edd7110"
      },
      "execution_count": null,
      "outputs": [
        {
          "output_type": "display_data",
          "data": {
            "text/html": [
              "<table class=\"dataframe\">\n",
              "<caption>A matrix: 3 × 3 of type dbl</caption>\n",
              "<tbody>\n",
              "\t<tr><td>1</td><td> 0.2763</td><td>-0.2763</td></tr>\n",
              "\t<tr><td>1</td><td>-0.4547</td><td> 0.7310</td></tr>\n",
              "\t<tr><td>1</td><td> 0.0000</td><td>-0.3436</td></tr>\n",
              "</tbody>\n",
              "</table>\n"
            ],
            "text/markdown": "\nA matrix: 3 × 3 of type dbl\n\n| 1 |  0.2763 | -0.2763 |\n| 1 | -0.4547 |  0.7310 |\n| 1 |  0.0000 | -0.3436 |\n\n",
            "text/latex": "A matrix: 3 × 3 of type dbl\n\\begin{tabular}{lll}\n\t 1 &  0.2763 & -0.2763\\\\\n\t 1 & -0.4547 &  0.7310\\\\\n\t 1 &  0.0000 & -0.3436\\\\\n\\end{tabular}\n",
            "text/plain": [
              "     [,1] [,2]    [,3]   \n",
              "[1,] 1     0.2763 -0.2763\n",
              "[2,] 1    -0.4547  0.7310\n",
              "[3,] 1     0.0000 -0.3436"
            ]
          },
          "metadata": {}
        }
      ]
    },
    {
      "cell_type": "code",
      "source": [
        "q = array(0,dim=c(t+1,1))\n",
        "\n",
        "for (i in 1:length(policy)) {\n",
        "\n",
        "      q[i,1] = (policy[i]-1)*costR + (i-1)*eps*costT\n",
        "\n",
        "}\n",
        "\n",
        "q"
      ],
      "metadata": {
        "colab": {
          "base_uri": "https://localhost:8080/",
          "height": 163
        },
        "id": "qH8m5j7q8YQU",
        "outputId": "46158663-f4f5-43ec-fb17-8163515a1bdb"
      },
      "execution_count": null,
      "outputs": [
        {
          "output_type": "display_data",
          "data": {
            "text/html": [
              "<table class=\"dataframe\">\n",
              "<caption>A matrix: 3 × 1 of type dbl</caption>\n",
              "<tbody>\n",
              "\t<tr><td>0.000000</td></tr>\n",
              "\t<tr><td>0.317304</td></tr>\n",
              "\t<tr><td>0.343600</td></tr>\n",
              "</tbody>\n",
              "</table>\n"
            ],
            "text/markdown": "\nA matrix: 3 × 1 of type dbl\n\n| 0.000000 |\n| 0.317304 |\n| 0.343600 |\n\n",
            "text/latex": "A matrix: 3 × 1 of type dbl\n\\begin{tabular}{l}\n\t 0.000000\\\\\n\t 0.317304\\\\\n\t 0.343600\\\\\n\\end{tabular}\n",
            "text/plain": [
              "     [,1]    \n",
              "[1,] 0.000000\n",
              "[2,] 0.317304\n",
              "[3,] 0.343600"
            ]
          },
          "metadata": {}
        }
      ]
    },
    {
      "cell_type": "code",
      "source": [
        "solution = solve(newA) %*% q\n",
        "\n",
        " newsolution = array(0, dim=c(t+1,1))\n",
        "    \n",
        "    for (i in 1:t) {\n",
        "      newsolution[i] = solution[i+1]\n",
        "    }\n",
        "newsolution[t+1] = 0\n",
        "\n",
        "newsolution"
      ],
      "metadata": {
        "colab": {
          "base_uri": "https://localhost:8080/",
          "height": 146
        },
        "id": "pVlXomQV9nTo",
        "outputId": "6de8b3c0-817d-4a5c-e0cb-0c25f1c22b66"
      },
      "execution_count": null,
      "outputs": [
        {
          "output_type": "display_data",
          "data": {
            "text/html": [
              "<table class=\"dataframe\">\n",
              "<caption>A matrix: 3 × 1 of type dbl</caption>\n",
              "<tbody>\n",
              "\t<tr><td>-1.1219784</td></tr>\n",
              "\t<tr><td>-0.4992179</td></tr>\n",
              "\t<tr><td> 0.0000000</td></tr>\n",
              "</tbody>\n",
              "</table>\n"
            ],
            "text/markdown": "\nA matrix: 3 × 1 of type dbl\n\n| -1.1219784 |\n| -0.4992179 |\n|  0.0000000 |\n\n",
            "text/latex": "A matrix: 3 × 1 of type dbl\n\\begin{tabular}{l}\n\t -1.1219784\\\\\n\t -0.4992179\\\\\n\t  0.0000000\\\\\n\\end{tabular}\n",
            "text/plain": [
              "     [,1]      \n",
              "[1,] -1.1219784\n",
              "[2,] -0.4992179\n",
              "[3,]  0.0000000"
            ]
          },
          "metadata": {}
        }
      ]
    },
    {
      "cell_type": "code",
      "source": [
        "improveMatrix = array(0, dim=c(t+1,r+1))\n",
        "cost = array(0,dim=c(t+1,r+1))\n",
        "\n",
        "    for (i in 1:(t+1)) {\n",
        "      for (j in 1:(r+1)) {\n",
        "        # Cost when we have j rescue operation and i terrorists\n",
        "\n",
        "      cost[i,j] = (j-1)*costR + (i-1)*eps*costT\n",
        "      \n",
        "      improveMatrix[i,j] = cost[i,j] + aijMatrix[i,,j] %*% newsolution\n",
        "\n",
        "      }\n",
        "    }  \n",
        "\n",
        "improveMatrix"
      ],
      "metadata": {
        "colab": {
          "base_uri": "https://localhost:8080/",
          "height": 128
        },
        "id": "pm0hnY8ICNsL",
        "outputId": "b57e047e-5ac0-4f42-9c89-1b5848e87a3c"
      },
      "execution_count": null,
      "outputs": [
        {
          "output_type": "display_data",
          "data": {
            "text/html": [
              "<table class=\"dataframe\">\n",
              "<caption>A matrix: 3 × 3 of type dbl</caption>\n",
              "<tbody>\n",
              "\t<tr><td>0.1720687</td><td>0.3175727</td><td>0.4630767</td></tr>\n",
              "\t<tr><td>0.2027437</td><td>0.1720687</td><td>0.3175727</td></tr>\n",
              "\t<tr><td>0.1720687</td><td>0.1763440</td><td>0.1806192</td></tr>\n",
              "</tbody>\n",
              "</table>\n"
            ],
            "text/markdown": "\nA matrix: 3 × 3 of type dbl\n\n| 0.1720687 | 0.3175727 | 0.4630767 |\n| 0.2027437 | 0.1720687 | 0.3175727 |\n| 0.1720687 | 0.1763440 | 0.1806192 |\n\n",
            "text/latex": "A matrix: 3 × 3 of type dbl\n\\begin{tabular}{lll}\n\t 0.1720687 & 0.3175727 & 0.4630767\\\\\n\t 0.2027437 & 0.1720687 & 0.3175727\\\\\n\t 0.1720687 & 0.1763440 & 0.1806192\\\\\n\\end{tabular}\n",
            "text/plain": [
              "     [,1]      [,2]      [,3]     \n",
              "[1,] 0.1720687 0.3175727 0.4630767\n",
              "[2,] 0.2027437 0.1720687 0.3175727\n",
              "[3,] 0.1720687 0.1763440 0.1806192"
            ]
          },
          "metadata": {}
        }
      ]
    },
    {
      "cell_type": "code",
      "source": [
        "for (i in 1:length(policyNew)) {\n",
        "      policyNew[i] = which.min(improveMatrix[i,])\n",
        "    }\n",
        "\n",
        "policyNew"
      ],
      "metadata": {
        "colab": {
          "base_uri": "https://localhost:8080/",
          "height": 100
        },
        "id": "S8K5PdCCJQdU",
        "outputId": "53aefcef-e5f7-4bb4-d017-31bc6ac86675"
      },
      "execution_count": null,
      "outputs": [
        {
          "output_type": "display_data",
          "data": {
            "text/html": [
              "<table class=\"dataframe\">\n",
              "<caption>A matrix: 1 × 3 of type dbl</caption>\n",
              "<tbody>\n",
              "\t<tr><td>1</td><td>2</td><td>1</td></tr>\n",
              "</tbody>\n",
              "</table>\n"
            ],
            "text/markdown": "\nA matrix: 1 × 3 of type dbl\n\n| 1 | 2 | 1 |\n\n",
            "text/latex": "A matrix: 1 × 3 of type dbl\n\\begin{tabular}{lll}\n\t 1 & 2 & 1\\\\\n\\end{tabular}\n",
            "text/plain": [
              "     [,1] [,2] [,3]\n",
              "[1,] 1    2    1   "
            ]
          },
          "metadata": {}
        }
      ]
    },
    {
      "cell_type": "code",
      "execution_count": null,
      "metadata": {
        "id": "E5HaHsPMkj2L"
      },
      "outputs": [],
      "source": [
        "# CTMC MDP model for rescue operational system!!!\n",
        "\n",
        "# Check function to determine new policy is same with current or not \n",
        "checkPolicy = function(policySet, policySetnew) {\n",
        "  n = 0\n",
        "  for (i in policySet == policySetnew) {\n",
        "    if (i == 'FALSE') {\n",
        "      n = 1\n",
        "    } \n",
        "  } \n",
        "  if (n == 0) {\n",
        "    return(\"TRUE\")\n",
        "  } else {\n",
        "    return(\"FALSE\")\n",
        "  }\n",
        "} \n",
        "\n",
        "\n",
        "# Define MDP function (for basic policy)\n",
        "MDP = function(lam, mu, eps, numRescue, numTerror, costT, RC, mult) {\n",
        "  r = numRescue\n",
        "  t = numTerror\n",
        "  \n",
        "  #calculating costR\n",
        "\n",
        "  costR = mult*costT*(mu+eps)\n",
        "\n",
        "\n",
        "  #########################################################\n",
        "  #EDITS: 22ND FEB,2023\n",
        "  #NEW SERVICE RATES STRUCTURE, ADD ORIGINAL ONE AS WELL\n",
        "  aijMatrix = array(0, dim = c(t+1,t+1,r+1))\n",
        "  for (k in 1:(r+1)) {\n",
        "    for (i in 1:t) {\n",
        "      aijMatrix[i,i+1,k] <- lam\n",
        "      if (i > 1) {\n",
        "        #if (k==4){\n",
        "          #if(i==4){\n",
        "            #cat('min(k-1,i-1)',min(k-1,i-1))}}\n",
        "        aijMatrix[i,i-1,k] <- sum(min(k-1,i-1)*mu+(i-1)*eps)        \n",
        "      }\n",
        "    }\n",
        "    aijMatrix[t+1,t,k] <- (min(k-1,t)*mu+t*eps)\n",
        "    aijMatrix[1,2,k] <- lam\n",
        "}\n",
        "\n",
        "  for (k in 1:(r+1)) {\n",
        "    for (i in 1:(t+1)) {\n",
        "      \n",
        "      aijMatrix[i,i,k] <- -sum(aijMatrix[i,,k])      \n",
        "    }\n",
        "  }\n",
        "  #########################################################\n",
        "  \n",
        "  \n",
        "  # Design the MDP algorithm\n",
        "  # Value determination\n",
        "  policy = array(0, dim = c(1,t+1)) \n",
        "  policyOld = array(0, dim = c(1,t+1))\n",
        "  policyNew = array(2, dim=c(1,t+1)) # initially set all decision is 1 in first policy\n",
        "  policyTrack = array(2, dim=c(1,t+1))\n",
        "  iteration = 0\n",
        "  gainMatrix = c()\n",
        "  \n",
        "  while (checkPolicy(policyOld, policyNew) == 'FALSE') {\n",
        "    policyOld = policyNew\n",
        "    policy = policyNew\n",
        "    # Design the transition matrix regarding policy\n",
        "    A = array(0, dim = c(t+1,t+1))\n",
        "    for (i in 1:length(policy)) {\n",
        "      A[i,] = aijMatrix[i,,(policy[i])]  \n",
        "    }\n",
        "\n",
        "    # Design the cost matrix regarding policy\n",
        "\n",
        "    q = array(0,dim=c(t+1,1))\n",
        "    for (i in 1:length(policy)) {\n",
        "\n",
        "      if (RC == 'L'){\n",
        "      cost = (policy[i]-1)*costR + (i-1)*eps*costT\n",
        "      }\n",
        "\n",
        "      if (RC == 'SR'){\n",
        "      cost = sqrt(policy[i]-1)*costR + (i-1)*eps*costT\n",
        "      }\n",
        "\n",
        "      if (RC == 'Q'){\n",
        "      cost = ((policy[i]-1)^2)*costR + (i-1)*eps*costT\n",
        "      }\n",
        "\n",
        "      q[i,1] = cost\n",
        "    }\n",
        "\n",
        "\n",
        "    newA = cbind(array(1, dim=c(t+1,1)), -A[,1:t])\n",
        "    solution = solve(newA) %*% q\n",
        "    gain = solution[1] # First row of solution is gain value\n",
        "    gainMatrix = append(gainMatrix, gain)\n",
        "    \n",
        "    # Policy improvement\n",
        "    newsolution = array(0, dim=c(t+1,1))\n",
        "    for (i in 1:t) {\n",
        "      newsolution[i] = solution[i+1]\n",
        "    }\n",
        "    newsolution[t+1] = 0 # Set last v value as 0 to calcultate the test quantity in policy improvement\n",
        "    improveMatrix = array(0, dim=c(t+1,r+1))\n",
        "    cost = array(0,dim=c(t+1,r+1))\n",
        "\n",
        "    for (i in 1:(t+1)) {\n",
        "      for (j in 1:(r+1)) {\n",
        "        # Cost when we have j rescue operation and i terrorists\n",
        "\n",
        "        if (RC == 'L'){\n",
        "      cost[i,j] = (j-1)*costR + (i-1)*eps*costT\n",
        "      }\n",
        "\n",
        "      if (RC == 'SR'){\n",
        "      cost[i,j] = sqrt(j-1)*costR + (i-1)*eps*costT\n",
        "      }\n",
        "\n",
        "      if (RC == 'Q'){\n",
        "      cost[i,j] = ((j-1)^2)*costR + (i-1)*eps*costT\n",
        "      }\n",
        "\n",
        "        improveMatrix[i,j] = cost[i,j] + aijMatrix[i,,j] %*% newsolution\n",
        "\n",
        "      }\n",
        "    }  \n",
        "    \n",
        "    # pick the minimum value among the decision\n",
        "    policyNew = array(1, dim = c(1,t+1))\n",
        "    for (i in 1:length(policyNew)) {\n",
        "      policyNew[i] = which.min(improveMatrix[i,])\n",
        "    }\n",
        "    iteration = iteration + 1\n",
        "    policyTrack = rbind(policyTrack, policyNew)\n",
        "    policyNew\n",
        "  }\n",
        "  for (i in 1:length(policyNew)) {\n",
        "    policyNew[i] = policyNew[i] - 1\n",
        "  }\n",
        "  for (i in 1:nrow(policyTrack)) {\n",
        "    for (j in 1:ncol(policyTrack)) {\n",
        "      policyTrack[i,j] = policyTrack[i,j] - 1      \n",
        "    }\n",
        "\n",
        "  }\n",
        "\n",
        "  \n",
        "   #return(list(policyNew,improveMatrix,cost,aijMatrix,newsolution))\n",
        "\n",
        "   return (policyNew)\n",
        " \n",
        " }"
      ]
    },
    {
      "cell_type": "code",
      "source": [
        "MDP(lam=0.2763, mu=0.2829, eps=0.1718, numRescue=2, numTerror=2, costT=1, RC='L', mult=0.32)"
      ],
      "metadata": {
        "colab": {
          "base_uri": "https://localhost:8080/",
          "height": 100
        },
        "id": "lIFLfHdXFMVs",
        "outputId": "b3d7fae8-1673-4418-dfdf-a6695c09e23d"
      },
      "execution_count": null,
      "outputs": [
        {
          "output_type": "display_data",
          "data": {
            "text/html": [
              "<table class=\"dataframe\">\n",
              "<caption>A matrix: 1 × 3 of type dbl</caption>\n",
              "<tbody>\n",
              "\t<tr><td>0</td><td>1</td><td>0</td></tr>\n",
              "</tbody>\n",
              "</table>\n"
            ],
            "text/markdown": "\nA matrix: 1 × 3 of type dbl\n\n| 0 | 1 | 0 |\n\n",
            "text/latex": "A matrix: 1 × 3 of type dbl\n\\begin{tabular}{lll}\n\t 0 & 1 & 0\\\\\n\\end{tabular}\n",
            "text/plain": [
              "     [,1] [,2] [,3]\n",
              "[1,] 0    1    0   "
            ]
          },
          "metadata": {}
        }
      ]
    },
    {
      "cell_type": "code",
      "source": [
        "mult_test = function(cost_terror,rc,low_lim,up_lim,incr) {\n",
        "\n",
        "prev_result = array(100,dim=c(1,11))\n",
        "\n",
        "for (val in seq(low_lim,up_lim, by = incr)){\n",
        "\n",
        "        current_result = MDP(lam = 0.2763, mu = 0.2829, eps = 0.1718, numRescue=2, numTerror=2, costT=cost_terror, RC=rc, mult=val)\n",
        "     \n",
        "         \n",
        "        if (!(identical(current_result,prev_result))) {\n",
        "\n",
        "          cat('\\n\\n','mult:',val,',','RC:',rc,',','\\n\\n')\n",
        "          cat('optimal policy:\\n')\n",
        "          print(current_result)\n",
        "\n",
        "          prev_result = current_result\n",
        "\n",
        "        }\n",
        "\n",
        "    }\n",
        "\n",
        "}"
      ],
      "metadata": {
        "id": "JjzdMwh6FbMD"
      },
      "execution_count": null,
      "outputs": []
    },
    {
      "cell_type": "code",
      "source": [
        "mult_test(1,'L',0,10,0.01)"
      ],
      "metadata": {
        "colab": {
          "base_uri": "https://localhost:8080/"
        },
        "id": "ATWHG_3oF55A",
        "outputId": "064f9c6f-3cf4-4f1d-8f76-8d906c937af5"
      },
      "execution_count": null,
      "outputs": [
        {
          "output_type": "stream",
          "name": "stdout",
          "text": [
            "\n",
            "\n",
            " mult: 0 , RC: L , \n",
            "\n",
            "optimal policy:\n",
            "     [,1] [,2] [,3]\n",
            "[1,]    0    1    2\n",
            "\n",
            "\n",
            " mult: 0.32 , RC: L , \n",
            "\n",
            "optimal policy:\n",
            "     [,1] [,2] [,3]\n",
            "[1,]    0    1    0\n",
            "\n",
            "\n",
            " mult: 0.42 , RC: L , \n",
            "\n",
            "optimal policy:\n",
            "     [,1] [,2] [,3]\n",
            "[1,]    0    0    0\n"
          ]
        }
      ]
    },
    {
      "cell_type": "code",
      "source": [],
      "metadata": {
        "id": "buglRmLsGEET"
      },
      "execution_count": null,
      "outputs": []
    }
  ]
}
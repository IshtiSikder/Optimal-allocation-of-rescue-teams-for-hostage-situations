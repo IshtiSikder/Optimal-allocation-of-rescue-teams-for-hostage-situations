{
  "nbformat": 4,
  "nbformat_minor": 0,
  "metadata": {
    "colab": {
      "provenance": [],
      "authorship_tag": "ABX9TyOP4mtG0VwigPYKR01IVwy+",
      "include_colab_link": true
    },
    "kernelspec": {
      "name": "ir",
      "display_name": "R"
    },
    "language_info": {
      "name": "R"
    }
  },
  "cells": [
    {
      "cell_type": "markdown",
      "metadata": {
        "id": "view-in-github",
        "colab_type": "text"
      },
      "source": [
        "<a href=\"https://colab.research.google.com/github/IshtiSikder/Optimal-allocation-of-rescue-teams-for-hostage-situations/blob/test/toy_prob.ipynb\" target=\"_parent\"><img src=\"https://colab.research.google.com/assets/colab-badge.svg\" alt=\"Open In Colab\"/></a>"
      ]
    },
    {
      "cell_type": "code",
      "source": [
        "prob <- function(opSet = policySet, t, lam, eps, mu) {\n",
        "  opTRM = matrix(0, nrow = t+1, ncol = t+1)\n",
        "  for (i in 2:t) {\n",
        "    opTRM[i, i-1] = sum(i*eps, opSet[i]*mu)\n",
        "    opTRM[i, i+1] = lam      \n",
        "  }\n",
        "  opTRM[1, 2] = lam\n",
        "  opTRM[t+1, t] = sum(t*eps, opSet[t+1]*mu)\n",
        "  \n",
        "  k = t+1\n",
        "  steady_prob <- matrix(0, nrow=1, ncol=k)\n",
        "  state <- matrix(0, nrow=1, ncol=k-1)\n",
        "  for (i in 1:(k-1)) {\n",
        "    if (i-2 < 0) {\n",
        "      state[i] <- (lam/opTRM[i+1,i])\n",
        "    } else {\n",
        "      state[i] <- state[i-1]*(lam/opTRM[i+1,i])\n",
        "    }\n",
        "  }\n",
        "  \n",
        "  steady_prob[1] <- (1+sum(state))^-1\n",
        "  for (i in 2:k) {\n",
        "    steady_prob[i] <- state[i-1]*steady_prob[1]\n",
        "  }\n",
        "  return(steady_prob)\n",
        "}"
      ],
      "metadata": {
        "id": "YxYWwlMGxdwL"
      },
      "execution_count": 1,
      "outputs": []
    },
    {
      "cell_type": "code",
      "source": [
        "checkPolicy = function(policySet, policySetnew) {\n",
        "  n = 0\n",
        "  for (i in policySet == policySetnew) {\n",
        "    if (i == 'FALSE') {\n",
        "      n = 1\n",
        "    } \n",
        "  } \n",
        "  if (n == 0) {\n",
        "    return(\"TRUE\")\n",
        "  } else {\n",
        "    return(\"FALSE\")\n",
        "  }\n",
        "} "
      ],
      "metadata": {
        "id": "FgsfEzpP8EU1"
      },
      "execution_count": 2,
      "outputs": []
    },
    {
      "cell_type": "code",
      "execution_count": 3,
      "metadata": {
        "id": "7n9IBTFJ1rHv"
      },
      "outputs": [],
      "source": [
        "t = 2\n",
        "r = 2\n",
        "lam = 0.2763\n",
        "mu = 0.2829\n",
        "eps = 0.1718\n",
        "\n",
        "costT = 1\n",
        "mult = 0.32\n",
        "\n",
        "costR = mult*costT*(mu+eps)"
      ]
    },
    {
      "cell_type": "code",
      "source": [
        "aijMatrix = array(0, dim = c(t+1,t+1,r+1))\n",
        "  \n",
        "for (k in 1:(r+1)) {\n",
        "  for (i in 1:t) {\n",
        "    aijMatrix[i,i+1,k] <- lam\n",
        "      if (i > 1) {\n",
        "        \n",
        "        aijMatrix[i,i-1,k] <- sum(min(k-1,i-1)*mu+(i-1)*eps)        \n",
        "      }\n",
        "    }\n",
        "aijMatrix[t+1,t,k] <- (min(k-1,t)*mu+t*eps)\n",
        "aijMatrix[1,2,k] <- lam\n",
        "}\n",
        "\n",
        "for (k in 1:(r+1)) {\n",
        "  for (i in 1:(t+1)) {\n",
        "      \n",
        "      aijMatrix[i,i,k] <- -sum(aijMatrix[i,,k])      \n",
        "    }\n",
        "  }"
      ],
      "metadata": {
        "id": "j9FWxNZdzWX3"
      },
      "execution_count": 4,
      "outputs": []
    },
    {
      "cell_type": "code",
      "source": [
        "print(aijMatrix)"
      ],
      "metadata": {
        "colab": {
          "base_uri": "https://localhost:8080/"
        },
        "id": "mDmYHYMh1z2Y",
        "outputId": "2b3744ad-6860-4bf1-ed66-c6a78184b859"
      },
      "execution_count": 5,
      "outputs": [
        {
          "output_type": "stream",
          "name": "stdout",
          "text": [
            ", , 1\n",
            "\n",
            "        [,1]    [,2]    [,3]\n",
            "[1,] -0.2763  0.2763  0.0000\n",
            "[2,]  0.1718 -0.4481  0.2763\n",
            "[3,]  0.0000  0.3436 -0.3436\n",
            "\n",
            ", , 2\n",
            "\n",
            "        [,1]    [,2]    [,3]\n",
            "[1,] -0.2763  0.2763  0.0000\n",
            "[2,]  0.4547 -0.7310  0.2763\n",
            "[3,]  0.0000  0.6265 -0.6265\n",
            "\n",
            ", , 3\n",
            "\n",
            "        [,1]    [,2]    [,3]\n",
            "[1,] -0.2763  0.2763  0.0000\n",
            "[2,]  0.4547 -0.7310  0.2763\n",
            "[3,]  0.0000  0.9094 -0.9094\n",
            "\n"
          ]
        }
      ]
    },
    {
      "cell_type": "code",
      "source": [
        "policyOld = array(3, dim = c(1,t+1))\n",
        "policyNew = array(1, dim=c(1,t+1))"
      ],
      "metadata": {
        "id": "K8hhWNtM7yVi"
      },
      "execution_count": 6,
      "outputs": []
    },
    {
      "cell_type": "code",
      "source": [
        "cat(policyOld,'\\n\\n')\n",
        "cat(policyNew)"
      ],
      "metadata": {
        "colab": {
          "base_uri": "https://localhost:8080/"
        },
        "id": "bHwzFUdW8mlg",
        "outputId": "20969939-927a-4bed-a2b0-58f9a6962dae"
      },
      "execution_count": 7,
      "outputs": [
        {
          "output_type": "stream",
          "name": "stdout",
          "text": [
            "3 3 3 \n",
            "\n",
            "1 1 1"
          ]
        }
      ]
    },
    {
      "cell_type": "code",
      "source": [
        "policyOld = policyNew\n",
        "policy = policyNew\n",
        "\n",
        "A = array(0, dim = c(t+1,t+1))\n",
        "    for (i in 1:length(policy)) {\n",
        "      A[i,] = aijMatrix[i,,(policy[i])]  \n",
        "    }\n",
        "newA = cbind(array(1, dim=c(t+1,1)), -A[,1:t])\n",
        "\n",
        "newA"
      ],
      "metadata": {
        "colab": {
          "base_uri": "https://localhost:8080/",
          "height": 146
        },
        "id": "DLuo9AW48HCB",
        "outputId": "4212d85d-3ded-4a89-c189-358e6f88855f"
      },
      "execution_count": 8,
      "outputs": [
        {
          "output_type": "display_data",
          "data": {
            "text/html": [
              "<table class=\"dataframe\">\n",
              "<caption>A matrix: 3 × 3 of type dbl</caption>\n",
              "<tbody>\n",
              "\t<tr><td>1</td><td> 0.2763</td><td>-0.2763</td></tr>\n",
              "\t<tr><td>1</td><td>-0.1718</td><td> 0.4481</td></tr>\n",
              "\t<tr><td>1</td><td> 0.0000</td><td>-0.3436</td></tr>\n",
              "</tbody>\n",
              "</table>\n"
            ],
            "text/markdown": "\nA matrix: 3 × 3 of type dbl\n\n| 1 |  0.2763 | -0.2763 |\n| 1 | -0.1718 |  0.4481 |\n| 1 |  0.0000 | -0.3436 |\n\n",
            "text/latex": "A matrix: 3 × 3 of type dbl\n\\begin{tabular}{lll}\n\t 1 &  0.2763 & -0.2763\\\\\n\t 1 & -0.1718 &  0.4481\\\\\n\t 1 &  0.0000 & -0.3436\\\\\n\\end{tabular}\n",
            "text/plain": [
              "     [,1] [,2]    [,3]   \n",
              "[1,] 1     0.2763 -0.2763\n",
              "[2,] 1    -0.1718  0.4481\n",
              "[3,] 1     0.0000 -0.3436"
            ]
          },
          "metadata": {}
        }
      ]
    },
    {
      "cell_type": "code",
      "source": [
        "q = array(0,dim=c(t+1,1))\n",
        "\n",
        "for (i in 1:length(policy)) {\n",
        "\n",
        "      q[i,1] = (policy[i]-1)*costR + (i-1)*eps*costT\n",
        "\n",
        "}\n",
        "\n",
        "q"
      ],
      "metadata": {
        "colab": {
          "base_uri": "https://localhost:8080/",
          "height": 163
        },
        "id": "qH8m5j7q8YQU",
        "outputId": "6317aa14-9b55-4bae-c30b-0161b8d643f2"
      },
      "execution_count": 9,
      "outputs": [
        {
          "output_type": "display_data",
          "data": {
            "text/html": [
              "<table class=\"dataframe\">\n",
              "<caption>A matrix: 3 × 1 of type dbl</caption>\n",
              "<tbody>\n",
              "\t<tr><td>0.0000</td></tr>\n",
              "\t<tr><td>0.1718</td></tr>\n",
              "\t<tr><td>0.3436</td></tr>\n",
              "</tbody>\n",
              "</table>\n"
            ],
            "text/markdown": "\nA matrix: 3 × 1 of type dbl\n\n| 0.0000 |\n| 0.1718 |\n| 0.3436 |\n\n",
            "text/latex": "A matrix: 3 × 1 of type dbl\n\\begin{tabular}{l}\n\t 0.0000\\\\\n\t 0.1718\\\\\n\t 0.3436\\\\\n\\end{tabular}\n",
            "text/plain": [
              "     [,1]  \n",
              "[1,] 0.0000\n",
              "[2,] 0.1718\n",
              "[3,] 0.3436"
            ]
          },
          "metadata": {}
        }
      ]
    },
    {
      "cell_type": "code",
      "source": [
        "solution = solve(newA) %*% q\n",
        "\n",
        " newsolution = array(0, dim=c(t+1,1))\n",
        "    \n",
        "    for (i in 1:t) {\n",
        "      newsolution[i] = solution[i+1]\n",
        "    }\n",
        "newsolution[t+1] = 0\n",
        "\n",
        "gain = solution[1]\n",
        "\n",
        "newsolution"
      ],
      "metadata": {
        "colab": {
          "base_uri": "https://localhost:8080/",
          "height": 146
        },
        "id": "pVlXomQV9nTo",
        "outputId": "0c34adf3-5755-4ca1-c8c2-d4a60e97a564"
      },
      "execution_count": 10,
      "outputs": [
        {
          "output_type": "display_data",
          "data": {
            "text/html": [
              "<table class=\"dataframe\">\n",
              "<caption>A matrix: 3 × 1 of type dbl</caption>\n",
              "<tbody>\n",
              "\t<tr><td>-1.1309421</td></tr>\n",
              "\t<tr><td>-0.4624174</td></tr>\n",
              "\t<tr><td> 0.0000000</td></tr>\n",
              "</tbody>\n",
              "</table>\n"
            ],
            "text/markdown": "\nA matrix: 3 × 1 of type dbl\n\n| -1.1309421 |\n| -0.4624174 |\n|  0.0000000 |\n\n",
            "text/latex": "A matrix: 3 × 1 of type dbl\n\\begin{tabular}{l}\n\t -1.1309421\\\\\n\t -0.4624174\\\\\n\t  0.0000000\\\\\n\\end{tabular}\n",
            "text/plain": [
              "     [,1]      \n",
              "[1,] -1.1309421\n",
              "[2,] -0.4624174\n",
              "[3,]  0.0000000"
            ]
          },
          "metadata": {}
        }
      ]
    },
    {
      "cell_type": "code",
      "source": [
        "gain"
      ],
      "metadata": {
        "id": "SlOy6bpSxzbY",
        "outputId": "6b5a8e29-d2fd-4487-8e45-5d17b0d6bd5e",
        "colab": {
          "base_uri": "https://localhost:8080/",
          "height": 34
        }
      },
      "execution_count": 11,
      "outputs": [
        {
          "output_type": "display_data",
          "data": {
            "text/html": [
              "0.184713380784108"
            ],
            "text/markdown": "0.184713380784108",
            "text/latex": "0.184713380784108",
            "text/plain": [
              "[1] 0.1847134"
            ]
          },
          "metadata": {}
        }
      ]
    },
    {
      "cell_type": "code",
      "source": [
        "improveMatrix = array(0, dim=c(t+1,r+1))\n",
        "cost = array(0,dim=c(t+1,r+1))\n",
        "\n",
        "    for (i in 1:(t+1)) {\n",
        "      for (j in 1:(r+1)) {\n",
        "        # Cost when we have j rescue operation and i terrorists\n",
        "\n",
        "      cost[i,j] = (j-1)*costR + (i-1)*eps*costT\n",
        "      \n",
        "      improveMatrix[i,j] = cost[i,j] + aijMatrix[i,,j] %*% newsolution\n",
        "\n",
        "      }\n",
        "    }  \n",
        "\n",
        "improveMatrix"
      ],
      "metadata": {
        "colab": {
          "base_uri": "https://localhost:8080/",
          "height": 128
        },
        "id": "pm0hnY8ICNsL",
        "outputId": "9c8dbc79-1f17-43f4-e633-baa08a8966c5"
      },
      "execution_count": 12,
      "outputs": [
        {
          "output_type": "display_data",
          "data": {
            "text/html": [
              "<table class=\"dataframe\">\n",
              "<caption>A matrix: 3 × 3 of type dbl</caption>\n",
              "<tbody>\n",
              "\t<tr><td>0.1847134</td><td>0.3302174</td><td>0.4757214</td></tr>\n",
              "\t<tr><td>0.1847134</td><td>0.1410917</td><td>0.2865957</td></tr>\n",
              "\t<tr><td>0.1847134</td><td>0.1993995</td><td>0.2140856</td></tr>\n",
              "</tbody>\n",
              "</table>\n"
            ],
            "text/markdown": "\nA matrix: 3 × 3 of type dbl\n\n| 0.1847134 | 0.3302174 | 0.4757214 |\n| 0.1847134 | 0.1410917 | 0.2865957 |\n| 0.1847134 | 0.1993995 | 0.2140856 |\n\n",
            "text/latex": "A matrix: 3 × 3 of type dbl\n\\begin{tabular}{lll}\n\t 0.1847134 & 0.3302174 & 0.4757214\\\\\n\t 0.1847134 & 0.1410917 & 0.2865957\\\\\n\t 0.1847134 & 0.1993995 & 0.2140856\\\\\n\\end{tabular}\n",
            "text/plain": [
              "     [,1]      [,2]      [,3]     \n",
              "[1,] 0.1847134 0.3302174 0.4757214\n",
              "[2,] 0.1847134 0.1410917 0.2865957\n",
              "[3,] 0.1847134 0.1993995 0.2140856"
            ]
          },
          "metadata": {}
        }
      ]
    },
    {
      "cell_type": "code",
      "source": [
        "for (i in 1:length(policyNew)) {\n",
        "      policyNew[i] = which.min(improveMatrix[i,])\n",
        "    }\n",
        "\n",
        "policyNew"
      ],
      "metadata": {
        "colab": {
          "base_uri": "https://localhost:8080/",
          "height": 100
        },
        "id": "S8K5PdCCJQdU",
        "outputId": "81f01299-abcb-4778-e09b-f9a32157b1b5"
      },
      "execution_count": 13,
      "outputs": [
        {
          "output_type": "display_data",
          "data": {
            "text/html": [
              "<table class=\"dataframe\">\n",
              "<caption>A matrix: 1 × 3 of type dbl</caption>\n",
              "<tbody>\n",
              "\t<tr><td>1</td><td>2</td><td>1</td></tr>\n",
              "</tbody>\n",
              "</table>\n"
            ],
            "text/markdown": "\nA matrix: 1 × 3 of type dbl\n\n| 1 | 2 | 1 |\n\n",
            "text/latex": "A matrix: 1 × 3 of type dbl\n\\begin{tabular}{lll}\n\t 1 & 2 & 1\\\\\n\\end{tabular}\n",
            "text/plain": [
              "     [,1] [,2] [,3]\n",
              "[1,] 1    2    1   "
            ]
          },
          "metadata": {}
        }
      ]
    },
    {
      "cell_type": "code",
      "source": [
        "prob(opSet = policyNew, t=2, lam = 0.2763, eps = 0.1718, mu = 0.2829)"
      ],
      "metadata": {
        "id": "_AWYuL8Rx_13",
        "outputId": "bfec35a1-f189-46ef-8e22-772d2e365147",
        "colab": {
          "base_uri": "https://localhost:8080/",
          "height": 66
        }
      },
      "execution_count": 15,
      "outputs": [
        {
          "output_type": "display_data",
          "data": {
            "text/html": [
              "<table class=\"dataframe\">\n",
              "<caption>A matrix: 1 × 3 of type dbl</caption>\n",
              "<tbody>\n",
              "\t<tr><td>0.695497</td><td>0.2113105</td><td>0.0931925</td></tr>\n",
              "</tbody>\n",
              "</table>\n"
            ],
            "text/markdown": "\nA matrix: 1 × 3 of type dbl\n\n| 0.695497 | 0.2113105 | 0.0931925 |\n\n",
            "text/latex": "A matrix: 1 × 3 of type dbl\n\\begin{tabular}{lll}\n\t 0.695497 & 0.2113105 & 0.0931925\\\\\n\\end{tabular}\n",
            "text/plain": [
              "     [,1]     [,2]      [,3]     \n",
              "[1,] 0.695497 0.2113105 0.0931925"
            ]
          },
          "metadata": {}
        }
      ]
    },
    {
      "cell_type": "code",
      "execution_count": 20,
      "metadata": {
        "id": "E5HaHsPMkj2L"
      },
      "outputs": [],
      "source": [
        "# CTMC MDP model for rescue operational system!!!\n",
        "\n",
        "prob <- function(opSet = policySet, t, lam, eps, mu) {\n",
        "  opTRM = matrix(0, nrow = t+1, ncol = t+1)\n",
        "  for (i in 2:t) {\n",
        "    opTRM[i, i-1] = sum(i*eps, opSet[i]*mu)\n",
        "    opTRM[i, i+1] = lam      \n",
        "  }\n",
        "  opTRM[1, 2] = lam\n",
        "  opTRM[t+1, t] = sum(t*eps, opSet[t+1]*mu)\n",
        "  \n",
        "  k = t+1\n",
        "  steady_prob <- matrix(0, nrow=1, ncol=k)\n",
        "  state <- matrix(0, nrow=1, ncol=k-1)\n",
        "  for (i in 1:(k-1)) {\n",
        "    if (i-2 < 0) {\n",
        "      state[i] <- (lam/opTRM[i+1,i])\n",
        "    } else {\n",
        "      state[i] <- state[i-1]*(lam/opTRM[i+1,i])\n",
        "    }\n",
        "  }\n",
        "  \n",
        "  steady_prob[1] <- (1+sum(state))^-1\n",
        "  for (i in 2:k) {\n",
        "    steady_prob[i] <- state[i-1]*steady_prob[1]\n",
        "  }\n",
        "  return(steady_prob)\n",
        "}\n",
        "\n",
        "\n",
        "\n",
        "\n",
        "# Check function to determine new policy is same with current or not \n",
        "checkPolicy = function(policySet, policySetnew) {\n",
        "  n = 0\n",
        "  for (i in policySet == policySetnew) {\n",
        "    if (i == 'FALSE') {\n",
        "      n = 1\n",
        "    } \n",
        "  } \n",
        "  if (n == 0) {\n",
        "    return(\"TRUE\")\n",
        "  } else {\n",
        "    return(\"FALSE\")\n",
        "  }\n",
        "} \n",
        "\n",
        "\n",
        "# Define MDP function (for basic policy)\n",
        "MDP = function(lam, mu, eps, numRescue, numTerror, costT, RC, mult) {\n",
        "  r = numRescue\n",
        "  t = numTerror\n",
        "  \n",
        "  #calculating costR\n",
        "\n",
        "  costR = mult*costT*(mu+eps)\n",
        "\n",
        "\n",
        "  #########################################################\n",
        "  #EDITS: 22ND FEB,2023\n",
        "  #NEW SERVICE RATES STRUCTURE, ADD ORIGINAL ONE AS WELL\n",
        "  aijMatrix = array(0, dim = c(t+1,t+1,r+1))\n",
        "  for (k in 1:(r+1)) {\n",
        "    for (i in 1:t) {\n",
        "      aijMatrix[i,i+1,k] <- lam\n",
        "      if (i > 1) {\n",
        "        #if (k==4){\n",
        "          #if(i==4){\n",
        "            #cat('min(k-1,i-1)',min(k-1,i-1))}}\n",
        "        aijMatrix[i,i-1,k] <- sum(min(k-1,i-1)*mu+(i-1)*eps)        \n",
        "      }\n",
        "    }\n",
        "    aijMatrix[t+1,t,k] <- (min(k-1,t)*mu+t*eps)\n",
        "    aijMatrix[1,2,k] <- lam\n",
        "}\n",
        "\n",
        "  for (k in 1:(r+1)) {\n",
        "    for (i in 1:(t+1)) {\n",
        "      \n",
        "      aijMatrix[i,i,k] <- -sum(aijMatrix[i,,k])      \n",
        "    }\n",
        "  }\n",
        "  #########################################################\n",
        "  \n",
        "  \n",
        "  # Design the MDP algorithm\n",
        "  # Value determination\n",
        "  policy = array(0, dim = c(1,t+1)) \n",
        "  policyOld = array(0, dim = c(1,t+1))\n",
        "  policyNew = array(2, dim=c(1,t+1)) # initially set all decision is 1 in first policy\n",
        "  policyTrack = array(2, dim=c(1,t+1))\n",
        "  iteration = 0\n",
        "  gainMatrix = c()\n",
        "  \n",
        "  while (checkPolicy(policyOld, policyNew) == 'FALSE') {\n",
        "    policyOld = policyNew\n",
        "    policy = policyNew\n",
        "    # Design the transition matrix regarding policy\n",
        "    A = array(0, dim = c(t+1,t+1))\n",
        "    for (i in 1:length(policy)) {\n",
        "      A[i,] = aijMatrix[i,,(policy[i])]  \n",
        "    }\n",
        "\n",
        "    # Design the cost matrix regarding policy\n",
        "\n",
        "    q = array(0,dim=c(t+1,1))\n",
        "    for (i in 1:length(policy)) {\n",
        "\n",
        "      if (RC == 'L'){\n",
        "      cost = (policy[i]-1)*costR + (i-1)*eps*costT\n",
        "      }\n",
        "\n",
        "      if (RC == 'SR'){\n",
        "      cost = sqrt(policy[i]-1)*costR + (i-1)*eps*costT\n",
        "      }\n",
        "\n",
        "      if (RC == 'Q'){\n",
        "      cost = ((policy[i]-1)^2)*costR + (i-1)*eps*costT\n",
        "      }\n",
        "\n",
        "      q[i,1] = cost\n",
        "    }\n",
        "\n",
        "\n",
        "    newA = cbind(array(1, dim=c(t+1,1)), -A[,1:t])\n",
        "    solution = solve(newA) %*% q\n",
        "    gain = solution[1] # First row of solution is gain value\n",
        "    gainMatrix = append(gainMatrix, gain)\n",
        "    \n",
        "    # Policy improvement\n",
        "    newsolution = array(0, dim=c(t+1,1))\n",
        "    for (i in 1:t) {\n",
        "      newsolution[i] = solution[i+1]\n",
        "    }\n",
        "\n",
        "\n",
        "    newsolution[t+1] = 0 # Set last v value as 0 to calcultate the test quantity in policy improvement\n",
        "    improveMatrix = array(0, dim=c(t+1,r+1))\n",
        "    cost = array(0,dim=c(t+1,r+1))\n",
        "\n",
        "    for (i in 1:(t+1)) {\n",
        "      for (j in 1:(r+1)) {\n",
        "        # Cost when we have j rescue operation and i terrorists\n",
        "\n",
        "        if (RC == 'L'){\n",
        "      cost[i,j] = (j-1)*costR + (i-1)*eps*costT\n",
        "      }\n",
        "\n",
        "      if (RC == 'SR'){\n",
        "      cost[i,j] = sqrt(j-1)*costR + (i-1)*eps*costT\n",
        "      }\n",
        "\n",
        "      if (RC == 'Q'){\n",
        "      cost[i,j] = ((j-1)^2)*costR + (i-1)*eps*costT\n",
        "      }\n",
        "\n",
        "        improveMatrix[i,j] = cost[i,j] + aijMatrix[i,,j] %*% newsolution\n",
        "\n",
        "      }\n",
        "    }  \n",
        "    \n",
        "    # pick the minimum value among the decision\n",
        "    policyNew = array(1, dim = c(1,t+1))\n",
        "    for (i in 1:length(policyNew)) {\n",
        "      policyNew[i] = which.min(improveMatrix[i,])\n",
        "    }\n",
        "    iteration = iteration + 1\n",
        "    policyTrack = rbind(policyTrack, policyNew)\n",
        "    policyNew\n",
        "  }\n",
        "  for (i in 1:length(policyNew)) {\n",
        "    policyNew[i] = policyNew[i] - 1\n",
        "  }\n",
        "  for (i in 1:nrow(policyTrack)) {\n",
        "    for (j in 1:ncol(policyTrack)) {\n",
        "      policyTrack[i,j] = policyTrack[i,j] - 1      \n",
        "    }\n",
        "\n",
        "  steady = prob(opSet = policyNew, t=numTerror, lam = lam, eps = eps, mu = mu)\n",
        "\n",
        "  gain = solution[1]\n",
        "\n",
        "  }\n",
        "\n",
        "  \n",
        "   #return(list(policyNew,improveMatrix,cost,aijMatrix,newsolution))\n",
        "\n",
        "   return (list(policyNew,gain,steady))\n",
        " \n",
        " }"
      ]
    },
    {
      "cell_type": "code",
      "source": [
        "MDP(lam=0.2763, mu=0.2829, eps=0.1718, numRescue=2, numTerror=2, costT=1, RC='L', mult=0.32)"
      ],
      "metadata": {
        "colab": {
          "base_uri": "https://localhost:8080/",
          "height": 195
        },
        "id": "lIFLfHdXFMVs",
        "outputId": "83fc7bef-a531-4668-95b9-65fb40f30b31"
      },
      "execution_count": 21,
      "outputs": [
        {
          "output_type": "display_data",
          "data": {
            "text/html": [
              "<ol>\n",
              "\t<li><table class=\"dataframe\">\n",
              "<caption>A matrix: 1 × 3 of type dbl</caption>\n",
              "<tbody>\n",
              "\t<tr><td>0</td><td>1</td><td>0</td></tr>\n",
              "</tbody>\n",
              "</table>\n",
              "</li>\n",
              "\t<li>0.172068721225694</li>\n",
              "\t<li><table class=\"dataframe\">\n",
              "<caption>A matrix: 1 × 3 of type dbl</caption>\n",
              "<tbody>\n",
              "\t<tr><td>0.5568979</td><td>0.245604</td><td>0.1974982</td></tr>\n",
              "</tbody>\n",
              "</table>\n",
              "</li>\n",
              "</ol>\n"
            ],
            "text/markdown": "1. \nA matrix: 1 × 3 of type dbl\n\n| 0 | 1 | 0 |\n\n\n2. 0.172068721225694\n3. \nA matrix: 1 × 3 of type dbl\n\n| 0.5568979 | 0.245604 | 0.1974982 |\n\n\n\n\n",
            "text/latex": "\\begin{enumerate}\n\\item A matrix: 1 × 3 of type dbl\n\\begin{tabular}{lll}\n\t 0 & 1 & 0\\\\\n\\end{tabular}\n\n\\item 0.172068721225694\n\\item A matrix: 1 × 3 of type dbl\n\\begin{tabular}{lll}\n\t 0.5568979 & 0.245604 & 0.1974982\\\\\n\\end{tabular}\n\n\\end{enumerate}\n",
            "text/plain": [
              "[[1]]\n",
              "     [,1] [,2] [,3]\n",
              "[1,]    0    1    0\n",
              "\n",
              "[[2]]\n",
              "[1] 0.1720687\n",
              "\n",
              "[[3]]\n",
              "          [,1]     [,2]      [,3]\n",
              "[1,] 0.5568979 0.245604 0.1974982\n"
            ]
          },
          "metadata": {}
        }
      ]
    },
    {
      "cell_type": "code",
      "source": [
        "mult_test = function(cost_terror,rc,low_lim,up_lim,incr) {\n",
        "\n",
        "prev_result = array(100,dim=c(1,11))\n",
        "\n",
        "for (val in seq(low_lim,up_lim, by = incr)){\n",
        "\n",
        "        output = MDP(lam = 0.2763, mu = 0.2829, eps = 0.1718, numRescue=2, numTerror=2, costT=cost_terror, RC=rc, mult=val)\n",
        "     \n",
        "        current_result = output[1]\n",
        "        gain = output[2]\n",
        "        steady = output[3]\n",
        "         \n",
        "        if (!(identical(current_result,prev_result))) {\n",
        "\n",
        "          cat('\\n\\n','mult:',val,',','RC:',rc,',','\\n\\n')\n",
        "          cat('optimal policy:\\n')\n",
        "          print(current_result)\n",
        "\n",
        "          cat('Gain:\\n')\n",
        "          print(gain)\n",
        "\n",
        "          cat('Steady state probs:\\n')\n",
        "          print(steady)\n",
        "\n",
        "          prev_result = current_result\n",
        "\n",
        "        }\n",
        "\n",
        "    }\n",
        "\n",
        "}"
      ],
      "metadata": {
        "id": "JjzdMwh6FbMD"
      },
      "execution_count": 31,
      "outputs": []
    },
    {
      "cell_type": "code",
      "source": [
        "mult_test(1,'L',0,10,0.01)"
      ],
      "metadata": {
        "colab": {
          "base_uri": "https://localhost:8080/"
        },
        "id": "ATWHG_3oF55A",
        "outputId": "57bab9be-f896-4f8d-b575-aed27cd58c7a"
      },
      "execution_count": 32,
      "outputs": [
        {
          "output_type": "stream",
          "name": "stdout",
          "text": [
            "\n",
            "\n",
            " mult: 0 , RC: L , \n",
            "\n",
            "optimal policy:\n",
            "[[1]]\n",
            "     [,1] [,2] [,3]\n",
            "[1,]    0    1    2\n",
            "\n",
            "Gain:\n",
            "[[1]]\n",
            "[1] 0.09364119\n",
            "\n",
            "Steady state probs:\n",
            "[[1]]\n",
            "          [,1]      [,2]       [,3]\n",
            "[1,] 0.6349143 0.2800109 0.08507479\n",
            "\n",
            "\n",
            "\n",
            " mult: 0.32 , RC: L , \n",
            "\n",
            "optimal policy:\n",
            "[[1]]\n",
            "     [,1] [,2] [,3]\n",
            "[1,]    0    1    0\n",
            "\n",
            "Gain:\n",
            "[[1]]\n",
            "[1] 0.1720687\n",
            "\n",
            "Steady state probs:\n",
            "[[1]]\n",
            "          [,1]     [,2]      [,3]\n",
            "[1,] 0.5568979 0.245604 0.1974982\n",
            "\n",
            "\n",
            "\n",
            " mult: 0.42 , RC: L , \n",
            "\n",
            "optimal policy:\n",
            "[[1]]\n",
            "     [,1] [,2] [,3]\n",
            "[1,]    0    0    0\n",
            "\n",
            "Gain:\n",
            "[[1]]\n",
            "[1] 0.1847134\n",
            "\n",
            "Steady state probs:\n",
            "[[1]]\n",
            "          [,1]      [,2]      [,3]\n",
            "[1,] 0.4080363 0.3281154 0.2638483\n",
            "\n"
          ]
        }
      ]
    },
    {
      "cell_type": "code",
      "source": [],
      "metadata": {
        "id": "Mhi59CfF1Cia",
        "outputId": "d0fc8d20-b10b-4979-ca7e-536f5ff7fc70",
        "colab": {
          "base_uri": "https://localhost:8080/",
          "height": 97
        }
      },
      "execution_count": 30,
      "outputs": [
        {
          "output_type": "error",
          "ename": "ERROR",
          "evalue": "ignored",
          "traceback": [
            "Error in eval(expr, envir, enclos): object 'output' not found\nTraceback:\n"
          ]
        }
      ]
    },
    {
      "cell_type": "code",
      "source": [
        "output = MDP(lam = 0.2763, mu = 0.2829, eps = 0.1718, numRescue=2, numTerror=2, costT=cost_terror, RC=rc, mult=val)"
      ],
      "metadata": {
        "id": "buglRmLsGEET"
      },
      "execution_count": null,
      "outputs": []
    }
  ]
}
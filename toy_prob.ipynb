{
  "nbformat": 4,
  "nbformat_minor": 0,
  "metadata": {
    "colab": {
      "provenance": [],
      "machine_shape": "hm",
      "gpuType": "A100",
      "authorship_tag": "ABX9TyMTe35v4P/kzcchgEG+D0OQ",
      "include_colab_link": true
    },
    "kernelspec": {
      "name": "ir",
      "display_name": "R"
    },
    "language_info": {
      "name": "R"
    }
  },
  "cells": [
    {
      "cell_type": "markdown",
      "metadata": {
        "id": "view-in-github",
        "colab_type": "text"
      },
      "source": [
        "<a href=\"https://colab.research.google.com/github/IshtiSikder/Optimal-allocation-of-rescue-teams-for-hostage-situations/blob/test/toy_prob.ipynb\" target=\"_parent\"><img src=\"https://colab.research.google.com/assets/colab-badge.svg\" alt=\"Open In Colab\"/></a>"
      ]
    },
    {
      "cell_type": "code",
      "execution_count": null,
      "metadata": {
        "id": "E5HaHsPMkj2L"
      },
      "outputs": [],
      "source": [
        "# CTMC MDP model for rescue operational system!!!\n",
        "\n",
        "prob <- function(opSet = policySet, t, lam, eps, mu) {\n",
        "  opTRM = matrix(0, nrow = t+1, ncol = t+1)\n",
        "  for (i in 2:t) {\n",
        "    opTRM[i, i-1] = sum(i*eps, opSet[i]*mu)\n",
        "    opTRM[i, i+1] = lam\n",
        "  }\n",
        "  opTRM[1, 2] = lam\n",
        "  opTRM[t+1, t] = sum(t*eps, opSet[t+1]*mu)\n",
        "\n",
        "  k = t+1\n",
        "  steady_prob <- matrix(0, nrow=1, ncol=k)\n",
        "  state <- matrix(0, nrow=1, ncol=k-1)\n",
        "  for (i in 1:(k-1)) {\n",
        "    if (i-2 < 0) {\n",
        "      state[i] <- (lam/opTRM[i+1,i])\n",
        "    } else {\n",
        "      state[i] <- state[i-1]*(lam/opTRM[i+1,i])\n",
        "    }\n",
        "  }\n",
        "\n",
        "  steady_prob[1] <- (1+sum(state))^-1\n",
        "  for (i in 2:k) {\n",
        "    steady_prob[i] <- state[i-1]*steady_prob[1]\n",
        "  }\n",
        "  return(steady_prob)\n",
        "}\n",
        "\n",
        "\n",
        "\n",
        "\n",
        "# Check function to determine new policy is same with current or not\n",
        "checkPolicy = function(policySet, policySetnew) {\n",
        "  n = 0\n",
        "  for (i in policySet == policySetnew) {\n",
        "    if (i == 'FALSE') {\n",
        "      n = 1\n",
        "    }\n",
        "  }\n",
        "  if (n == 0) {\n",
        "    return(\"TRUE\")\n",
        "  } else {\n",
        "    return(\"FALSE\")\n",
        "  }\n",
        "}\n",
        "\n",
        "\n",
        "# Define MDP function (for basic policy)\n",
        "MDP = function(lam, mu, eps, numRescue, numTerror, costT, RC, mult) {\n",
        "  r = numRescue\n",
        "  t = numTerror\n",
        "\n",
        "  #calculating costR\n",
        "\n",
        "  costR = mult*costT*(mu+eps)\n",
        "\n",
        "\n",
        "  #########################################################\n",
        "  #EDITS: 22ND FEB,2023\n",
        "  #NEW SERVICE RATES STRUCTURE, ADD ORIGINAL ONE AS WELL\n",
        "  aijMatrix = array(0, dim = c(t+1,t+1,r+1))\n",
        "  for (k in 1:(r+1)) {\n",
        "    for (i in 1:t) {\n",
        "      aijMatrix[i,i+1,k] <- lam\n",
        "      if (i > 1) {\n",
        "        #if (k==4){\n",
        "          #if(i==4){\n",
        "            #cat('min(k-1,i-1)',min(k-1,i-1))}}\n",
        "        aijMatrix[i,i-1,k] <- sum(min(k-1,i-1)*mu+(i-1)*eps)\n",
        "      }\n",
        "    }\n",
        "    aijMatrix[t+1,t,k] <- (min(k-1,t)*mu+t*eps)\n",
        "    aijMatrix[1,2,k] <- lam\n",
        "}\n",
        "\n",
        "  for (k in 1:(r+1)) {\n",
        "    for (i in 1:(t+1)) {\n",
        "\n",
        "      aijMatrix[i,i,k] <- -sum(aijMatrix[i,,k])\n",
        "    }\n",
        "  }\n",
        "  #########################################################\n",
        "\n",
        "\n",
        "  # Design the MDP algorithm\n",
        "  # Value determination\n",
        "  policy = array(0, dim = c(1,t+1))\n",
        "  policyOld = array(0, dim = c(1,t+1))\n",
        "  policyNew = array(1, dim=c(1,t+1)) # initially set all decision is 1 in first policy\n",
        "  policyTrack = array(2, dim=c(1,t+1))\n",
        "  iteration = 0\n",
        "  gainMatrix = c()\n",
        "\n",
        "  while (checkPolicy(policyOld, policyNew) == 'FALSE') {\n",
        "    policyOld = policyNew\n",
        "    policy = policyNew\n",
        "    # Design the transition matrix regarding policy\n",
        "    A = array(0, dim = c(t+1,t+1))\n",
        "    for (i in 1:length(policy)) {\n",
        "      A[i,] = aijMatrix[i,,(policy[i])]\n",
        "    }\n",
        "\n",
        "    # Design the cost matrix regarding policy\n",
        "\n",
        "    q = array(0,dim=c(t+1,1))\n",
        "    for (i in 1:length(policy)) {\n",
        "\n",
        "      if (RC == 'L'){\n",
        "      cost = (policy[i]-1)*costR + (i-1)*eps*costT\n",
        "      }\n",
        "\n",
        "      if (RC == 'SR'){\n",
        "      cost = sqrt(policy[i]-1)*costR + (i-1)*eps*costT\n",
        "      }\n",
        "\n",
        "      if (RC == 'Q'){\n",
        "      cost = ((policy[i]-1)^2)*costR + (i-1)*eps*costT\n",
        "      }\n",
        "\n",
        "      q[i,1] = cost\n",
        "    }\n",
        "\n",
        "\n",
        "    newA = cbind(array(1, dim=c(t+1,1)), -A[,1:t])\n",
        "    solution = solve(newA) %*% q\n",
        "    gain = solution[1] # First row of solution is gain value\n",
        "    gainMatrix = append(gainMatrix, gain)\n",
        "\n",
        "    # Policy improvement\n",
        "    newsolution = array(0, dim=c(t+1,1))\n",
        "    for (i in 1:t) {\n",
        "      newsolution[i] = solution[i+1]\n",
        "    }\n",
        "\n",
        "\n",
        "    newsolution[t+1] = 0 # Set last v value as 0 to calcultate the test quantity in policy improvement\n",
        "    improveMatrix = array(0, dim=c(t+1,r+1))\n",
        "    cost = array(0,dim=c(t+1,r+1))\n",
        "\n",
        "    for (i in 1:(t+1)) {\n",
        "      for (j in 1:(r+1)) {\n",
        "        # Cost when we have j rescue operation and i terrorists\n",
        "\n",
        "        if (RC == 'L'){\n",
        "      cost[i,j] = (j-1)*costR + (i-1)*eps*costT\n",
        "      }\n",
        "\n",
        "      if (RC == 'SR'){\n",
        "      cost[i,j] = sqrt(j-1)*costR + (i-1)*eps*costT\n",
        "      }\n",
        "\n",
        "      if (RC == 'Q'){\n",
        "      cost[i,j] = ((j-1)^2)*costR + (i-1)*eps*costT\n",
        "      }\n",
        "\n",
        "        improveMatrix[i,j] = cost[i,j] + aijMatrix[i,,j] %*% newsolution\n",
        "\n",
        "      }\n",
        "    }\n",
        "\n",
        "    # pick the minimum value among the decision\n",
        "    policyNew = array(1, dim = c(1,t+1))\n",
        "    for (i in 1:length(policyNew)) {\n",
        "      policyNew[i] = which.min(improveMatrix[i,])\n",
        "    }\n",
        "    iteration = iteration + 1\n",
        "    policyTrack = rbind(policyTrack, policyNew)\n",
        "    policyNew\n",
        "  }\n",
        "  for (i in 1:length(policyNew)) {\n",
        "    policyNew[i] = policyNew[i] - 1\n",
        "  }\n",
        "  for (i in 1:nrow(policyTrack)) {\n",
        "    for (j in 1:ncol(policyTrack)) {\n",
        "      policyTrack[i,j] = policyTrack[i,j] - 1\n",
        "    }\n",
        "\n",
        "  steady = prob(opSet = policyNew, t=numTerror, lam = lam, eps = eps, mu = mu)\n",
        "\n",
        "  gain = solution[1]\n",
        "\n",
        "  }\n",
        "\n",
        "\n",
        "   #return(list(policyNew,improveMatrix,cost,aijMatrix,newsolution))\n",
        "\n",
        "   return (policyNew)\n",
        "\n",
        " }"
      ]
    },
    {
      "cell_type": "code",
      "source": [
        "ans = MDP(lam=0.2763, mu=0.2829, eps=0.1718, numRescue=10, numTerror=10, costT=1, RC='L', mult=0.5316190142082907188481)"
      ],
      "metadata": {
        "id": "lIFLfHdXFMVs"
      },
      "execution_count": null,
      "outputs": []
    },
    {
      "cell_type": "code",
      "source": [
        "list(ans)"
      ],
      "metadata": {
        "colab": {
          "base_uri": "https://localhost:8080/",
          "height": 94
        },
        "id": "JS5P4S--6ghm",
        "outputId": "7b7e9efd-8c08-4f30-eb1f-470021b74ce0"
      },
      "execution_count": null,
      "outputs": [
        {
          "output_type": "display_data",
          "data": {
            "text/html": [
              "<ol>\n",
              "\t<li><table class=\"dataframe\">\n",
              "<caption>A matrix: 1 × 11 of type dbl</caption>\n",
              "<tbody>\n",
              "\t<tr><td>0</td><td>1</td><td>2</td><td>3</td><td>4</td><td>5</td><td>6</td><td>7</td><td>8</td><td>9</td><td>0</td></tr>\n",
              "</tbody>\n",
              "</table>\n",
              "</li>\n",
              "</ol>\n"
            ],
            "text/markdown": "1. \nA matrix: 1 × 11 of type dbl\n\n| 0 | 1 | 2 | 3 | 4 | 5 | 6 | 7 | 8 | 9 | 0 |\n\n\n\n\n",
            "text/latex": "\\begin{enumerate}\n\\item A matrix: 1 × 11 of type dbl\n\\begin{tabular}{lllllllllll}\n\t 0 & 1 & 2 & 3 & 4 & 5 & 6 & 7 & 8 & 9 & 0\\\\\n\\end{tabular}\n\n\\end{enumerate}\n",
            "text/plain": [
              "[[1]]\n",
              "     [,1] [,2] [,3] [,4] [,5] [,6] [,7] [,8] [,9] [,10] [,11]\n",
              "[1,]    0    1    2    3    4    5    6    7    8     9     0\n"
            ]
          },
          "metadata": {}
        }
      ]
    },
    {
      "cell_type": "code",
      "source": [
        "fixed = function(policy,mult,rc,costT,lam,mu,eps,t,r){\n",
        "\n",
        "  policy = policy + 1\n",
        "\n",
        "  aijMatrix = array(0, dim = c(t+1,t+1,r+1))\n",
        "  for (k in 1:(r+1)) {\n",
        "    for (i in 1:t) {\n",
        "      aijMatrix[i,i+1,k] <- lam\n",
        "      if (i > 1) {\n",
        "        aijMatrix[i,i-1,k] <- sum(min(k-1,i-1)*mu+(i-1)*eps)\n",
        "      }\n",
        "    }\n",
        "    aijMatrix[t+1,t,k] <- (min(k-1,t)*mu+t*eps)\n",
        "    aijMatrix[1,2,k] <- lam\n",
        "}\n",
        "\n",
        "  for (k in 1:(r+1)) {\n",
        "    for (i in 1:(t+1)) {\n",
        "\n",
        "      aijMatrix[i,i,k] <- -sum(aijMatrix[i,,k])\n",
        "    }\n",
        "  }\n",
        "\n",
        "\n",
        "\n",
        "\n",
        "  A = array(0, dim = c(t+1,t+1))\n",
        "\n",
        "  for (i in 1:length(policy)) {\n",
        "\n",
        "      A[i,] = aijMatrix[i,,(policy[i])]\n",
        "    }\n",
        "\n",
        "    # Design the cost matrix regarding policy\n",
        "\n",
        "    q = array(0,dim=c(t+1,1))\n",
        "\n",
        "    costR = mult*costT*(mu+eps)\n",
        "\n",
        "    for (i in 1:length(policy)) {\n",
        "\n",
        "      if (rc == 'L'){\n",
        "      cost = (policy[i]-1)*costR + (i-1)*eps*costT\n",
        "      }\n",
        "\n",
        "      if (rc == 'SR'){\n",
        "      cost = sqrt(policy[i]-1)*costR + (i-1)*eps*costT\n",
        "      }\n",
        "\n",
        "      if (rc == 'Q'){\n",
        "      cost = ((policy[i]-1)^2)*costR + (i-1)*eps*costT\n",
        "      }\n",
        "\n",
        "      q[i,1] = cost\n",
        "    }\n",
        "\n",
        "\n",
        "    newA = cbind(array(1, dim=c(t+1,1)), -A[,1:t])\n",
        "    solution = solve(newA) %*% q\n",
        "    gain = solution[1]\n",
        "\n",
        "    return(gain)\n",
        "\n",
        "\n",
        "}"
      ],
      "metadata": {
        "id": "aYWOIPAIle7g"
      },
      "execution_count": null,
      "outputs": []
    },
    {
      "cell_type": "code",
      "source": [
        "t = 10\n",
        "r = 10\n",
        "lam=0.2763\n",
        "mu=0.2829\n",
        "eps=0.1718\n",
        "policy = c(0,1,2,3,4,5,6,7,8,0,0)\n",
        "costT = 1\n",
        "mult = 0.607\n",
        "rc = 'L'\n",
        "\n",
        "ans = fixed(policy,mult,rc,costT,lam,mu,eps,t,r)\n",
        "\n",
        "print(ans)"
      ],
      "metadata": {
        "id": "OsXl3GWxoQH4",
        "outputId": "5029c570-08af-45bd-e9e6-834f933c512f",
        "colab": {
          "base_uri": "https://localhost:8080/",
          "height": 106
        }
      },
      "execution_count": null,
      "outputs": [
        {
          "output_type": "error",
          "ename": "ERROR",
          "evalue": "ignored",
          "traceback": [
            "Error in fixed(policy, mult, rc, costT, lam, mu, eps, t, r): could not find function \"fixed\"\nTraceback:\n"
          ]
        }
      ]
    },
    {
      "cell_type": "code",
      "source": [
        "fixed = function(policy,mult,rc,costT,lam,mu,eps,t,r){\n",
        "\n",
        "  policy = policy + 1\n",
        "\n",
        "  aijMatrix = array(0, dim = c(t+1,t+1,r+1))\n",
        "  for (k in 1:(r+1)) {\n",
        "    for (i in 1:t) {\n",
        "      aijMatrix[i,i+1,k] <- lam\n",
        "      if (i > 1) {\n",
        "        aijMatrix[i,i-1,k] <- sum(min(k-1,i-1)*mu+(i-1)*eps)\n",
        "      }\n",
        "    }\n",
        "    aijMatrix[t+1,t,k] <- (min(k-1,t)*mu+t*eps)\n",
        "    aijMatrix[1,2,k] <- lam\n",
        "}\n",
        "\n",
        "  for (k in 1:(r+1)) {\n",
        "    for (i in 1:(t+1)) {\n",
        "\n",
        "      aijMatrix[i,i,k] <- -sum(aijMatrix[i,,k])\n",
        "    }\n",
        "  }\n",
        "\n",
        "\n",
        "\n",
        "\n",
        "  A = array(0, dim = c(t+1,t+1))\n",
        "\n",
        "  for (i in 1:length(policy)) {\n",
        "\n",
        "      A[i,] = aijMatrix[i,,(policy[i])]\n",
        "    }\n",
        "\n",
        "    # Design the cost matrix regarding policy\n",
        "\n",
        "    q = array(0,dim=c(t+1,1))\n",
        "\n",
        "    costR = mult*costT*(mu+eps)\n",
        "\n",
        "    for (i in 1:length(policy)) {\n",
        "\n",
        "      if (rc == 'L'){\n",
        "      cost = (policy[i]-1)*costR + (i-1)*eps*costT\n",
        "      }\n",
        "\n",
        "      if (rc == 'SR'){\n",
        "      cost = sqrt(policy[i]-1)*costR + (i-1)*eps*costT\n",
        "      }\n",
        "\n",
        "      if (rc == 'Q'){\n",
        "      cost = ((policy[i]-1)^2)*costR + (i-1)*eps*costT\n",
        "      }\n",
        "\n",
        "      q[i,1] = cost\n",
        "    }\n",
        "\n",
        "\n",
        "    newA = cbind(array(1, dim=c(t+1,1)), -A[,1:t])\n",
        "    solution = solve(newA) %*% q\n",
        "    gain = solution[1]\n",
        "\n",
        "    return(gain)\n",
        "\n",
        "\n",
        "}\n",
        "\n",
        "\n",
        "\n",
        "\n",
        "\n",
        "\n",
        "\n",
        "\n",
        "\n",
        "\n",
        "\n",
        "mult_test = function(cost_terror=1,rc,t=10,r=10,lam=0.2763,mu=0.2829,eps=0.1718,low_lim,up_lim,incr,policy=c(0,1,2,3,4,5,6,7,8,9,10)) {\n",
        "\n",
        "prev_result = array(100,dim=c(1,t+1))\n",
        "\n",
        "\n",
        "list_mult = list()\n",
        "list_sum = list()\n",
        "list_gain = list()\n",
        "list_fixed = list()\n",
        "list_policy = list()\n",
        "\n",
        "\n",
        "aijMatrix = array(0, dim = c(t+1,t+1,r+1))\n",
        "  for (k in 1:(r+1)) {\n",
        "    for (i in 1:t) {\n",
        "      aijMatrix[i,i+1,k] <- lam\n",
        "      if (i > 1) {\n",
        "        #if (k==4){\n",
        "          #if(i==4){\n",
        "            #cat('min(k-1,i-1)',min(k-1,i-1))}}\n",
        "        aijMatrix[i,i-1,k] <- sum(min(k-1,i-1)*mu+(i-1)*eps)\n",
        "      }\n",
        "    }\n",
        "    aijMatrix[t+1,t,k] <- (min(k-1,t)*mu+t*eps)\n",
        "    aijMatrix[1,2,k] <- lam\n",
        "}\n",
        "\n",
        "  for (k in 1:(r+1)) {\n",
        "    for (i in 1:(t+1)) {\n",
        "\n",
        "      aijMatrix[i,i,k] <- -sum(aijMatrix[i,,k])\n",
        "    }\n",
        "  }\n",
        "\n",
        "\n",
        "for (val in seq(low_lim,up_lim, by = incr)){\n",
        "\n",
        "        current_result = MDP(lam, mu, eps, numRescue=r, numTerror=t, costT=cost_terror, RC=rc, mult=val)\n",
        "\n",
        "\n",
        "        if (!(identical(current_result,prev_result))) {\n",
        "\n",
        "          list_policy = append(list_policy,list(current_result))\n",
        "\n",
        "          steady_prob = prob(current_result, t, lam, mu, eps)\n",
        "\n",
        "          sum = 0\n",
        "\n",
        "          for (i in 1:length(current_result)){\n",
        "            sum = sum + current_result[i]*steady_prob[i]\n",
        "          }\n",
        "\n",
        "          sum = sum*mu\n",
        "\n",
        "          list_mult = append(list_mult,val)\n",
        "          list_sum = append(list_sum,sum)\n",
        "\n",
        "          current = current_result + 1\n",
        "\n",
        "          A = array(0, dim = c(11,11))\n",
        "          for (i in 1:length(current)) {\n",
        "          A[i,] = aijMatrix[i,,(current[i])]\n",
        "          }\n",
        "\n",
        "          # Design the cost matrix regarding policy\n",
        "\n",
        "          q = array(0,dim=c(11,1))\n",
        "\n",
        "          costT = cost_terror\n",
        "\n",
        "          costR = val*costT*(mu+eps)\n",
        "\n",
        "          for (i in 1:length(current)) {\n",
        "\n",
        "          if (rc == 'L'){\n",
        "          cost = (current[i]-1)*costR + (i-1)*eps*costT\n",
        "          }\n",
        "\n",
        "          if (rc == 'SR'){\n",
        "          cost = sqrt(current[i]-1)*costR + (i-1)*eps*costT\n",
        "          }\n",
        "\n",
        "          if (rc == 'Q'){\n",
        "          cost = ((current[i]-1)^2)*costR + (i-1)*eps*costT\n",
        "          }\n",
        "\n",
        "          q[i,1] = cost\n",
        "          }\n",
        "\n",
        "\n",
        "          newA = cbind(array(1, dim=c(t+1,1)), -A[,1:t])\n",
        "          solution = solve(newA) %*% q\n",
        "          gain = solution[1]\n",
        "\n",
        "          fixed_gain = fixed(policy,val,rc,cost_terror,lam,mu,eps,t,r)\n",
        "\n",
        "          list_gain = append(list_gain,gain)\n",
        "          list_fixed = append(list_fixed,fixed_gain)\n",
        "\n",
        "\n",
        "\n",
        "          cat('\\n\\n','mult:')\n",
        "          print(val)\n",
        "          cat('\\n','Rate of success/failure:')\n",
        "          print(sum)\n",
        "          cat('\\n','gain:')\n",
        "          print(gain)\n",
        "\n",
        "          cat('\\n','gain for fixed policy:')\n",
        "          print(fixed_gain)\n",
        "          cat('\\nRC:',rc,',','\\n\\n')\n",
        "          cat('optimal policy:\\n\\n')\n",
        "          print(current_result)\n",
        "          cat('\\nsteady_prob:\\n')\n",
        "          print(steady_prob)\n",
        "\n",
        "\n",
        "\n",
        "          prev_result = current_result\n",
        "\n",
        "        }\n",
        "\n",
        "    }\n",
        "\n",
        "return (list(list_mult,list_sum,list_gain,list_fixed,list_policy))\n",
        "\n",
        "}"
      ],
      "metadata": {
        "id": "JjzdMwh6FbMD"
      },
      "execution_count": null,
      "outputs": []
    },
    {
      "cell_type": "code",
      "source": [
        "#lowest possible increment possible in R is 0.00000000001, or 10^-11\n",
        "\n",
        "\n",
        "\n",
        "lst = mult_test(cost_terror=1,rc='L',t=10,r=10,lam=0.2763,mu=0.2829,eps=0.1718,low_lim=0,up_lim=3,incr=0.001,policy=c(0,1,2,3,4,5,6,7,8,9,10))\n"
      ],
      "metadata": {
        "id": "ATWHG_3oF55A",
        "colab": {
          "base_uri": "https://localhost:8080/"
        },
        "outputId": "d659244e-ef6c-4805-96cf-4333f27bc0b5"
      },
      "execution_count": null,
      "outputs": [
        {
          "output_type": "stream",
          "name": "stdout",
          "text": [
            "\n",
            "\n",
            " mult:[1] 0\n",
            "\n",
            " Rate of success/failure:[1] 0.1149728\n",
            "\n",
            " gain:[1] 0.1043949\n",
            "\n",
            " gain for fixed policy:[1] 0.1043949\n",
            "\n",
            "RC: L , \n",
            "\n",
            "optimal policy:\n",
            "\n",
            "     [,1] [,2] [,3] [,4] [,5] [,6] [,7] [,8] [,9] [,10] [,11]\n",
            "[1,]    0    1    2    3    4    5    6    7    8     9    10\n",
            "\n",
            "steady_prob:\n",
            "          [,1]     [,2]       [,3]        [,4]        [,5]         [,6]\n",
            "[1,] 0.6765419 0.253428 0.05872865 0.009852292 0.001295232 0.0001399908\n",
            "             [,7]         [,8]         [,9]        [,10]        [,11]\n",
            "[1,] 1.284562e-05 1.024077e-06 7.217255e-08 4.557797e-09 2.769561e-10\n",
            "\n",
            "\n",
            " mult:[1] 0.532\n",
            "\n",
            " Rate of success/failure:[1] 0.1149728\n",
            "\n",
            " gain:[1] 0.2513865\n",
            "\n",
            " gain for fixed policy:[1] 0.2513865\n",
            "\n",
            "RC: L , \n",
            "\n",
            "optimal policy:\n",
            "\n",
            "     [,1] [,2] [,3] [,4] [,5] [,6] [,7] [,8] [,9] [,10] [,11]\n",
            "[1,]    0    1    2    3    4    5    6    7    8     9     0\n",
            "\n",
            "steady_prob:\n",
            "          [,1]     [,2]       [,3]        [,4]        [,5]         [,6]\n",
            "[1,] 0.6765419 0.253428 0.05872865 0.009852292 0.001295232 0.0001399908\n",
            "             [,7]         [,8]         [,9]        [,10]        [,11]\n",
            "[1,] 1.284562e-05 1.024077e-06 7.217255e-08 4.557797e-09 4.451465e-10\n",
            "\n",
            "\n",
            " mult:[1] 0.607\n",
            "\n",
            " Rate of success/failure:[1] 0.1149728\n",
            "\n",
            " gain:[1] 0.272109\n",
            "\n",
            " gain for fixed policy:[1] 0.272109\n",
            "\n",
            "RC: L , \n",
            "\n",
            "optimal policy:\n",
            "\n",
            "     [,1] [,2] [,3] [,4] [,5] [,6] [,7] [,8] [,9] [,10] [,11]\n",
            "[1,]    0    1    2    3    4    5    6    7    8     0     0\n",
            "\n",
            "steady_prob:\n",
            "          [,1]     [,2]       [,3]        [,4]        [,5]         [,6]\n",
            "[1,] 0.6765419 0.253428 0.05872865 0.009852292 0.001295232 0.0001399908\n",
            "             [,7]         [,8]         [,9]        [,10]        [,11]\n",
            "[1,] 1.284562e-05 1.024077e-06 7.217255e-08 7.048878e-09 6.884429e-10\n",
            "\n",
            "\n",
            " mult:[1] 0.62\n",
            "\n",
            " Rate of success/failure:[1] 0.1149726\n",
            "\n",
            " gain:[1] 0.2757009\n",
            "\n",
            " gain for fixed policy:[1] 0.2757009\n",
            "\n",
            "RC: L , \n",
            "\n",
            "optimal policy:\n",
            "\n",
            "     [,1] [,2] [,3] [,4] [,5] [,6] [,7] [,8] [,9] [,10] [,11]\n",
            "[1,]    0    1    2    3    4    5    6    7    0     0     0\n",
            "\n",
            "steady_prob:\n",
            "          [,1]     [,2]       [,3]        [,4]        [,5]         [,6]\n",
            "[1,] 0.6765418 0.253428 0.05872864 0.009852292 0.001295232 0.0001399908\n",
            "             [,7]         [,8]         [,9]       [,10]        [,11]\n",
            "[1,] 1.284562e-05 1.024077e-06 1.111317e-07 1.08539e-08 1.060068e-09\n",
            "\n",
            "\n",
            " mult:[1] 0.622\n",
            "\n",
            " Rate of success/failure:[1] 0.1149479\n",
            "\n",
            " gain:[1] 0.2762534\n",
            "\n",
            " gain for fixed policy:[1] 0.2762535\n",
            "\n",
            "RC: L , \n",
            "\n",
            "optimal policy:\n",
            "\n",
            "     [,1] [,2] [,3] [,4] [,5] [,6] [,7] [,8] [,9] [,10] [,11]\n",
            "[1,]    0    1    2    3    4    5    0    0    0     0     0\n",
            "\n",
            "steady_prob:\n",
            "          [,1]      [,2]       [,3]        [,4]        [,5]         [,6]\n",
            "[1,] 0.6765363 0.2534259 0.05872816 0.009852211 0.001295221 0.0001399897\n",
            "             [,7]         [,8]         [,9]        [,10]        [,11]\n",
            "[1,] 1.953196e-05 2.384535e-06 2.587672e-07 2.527302e-08 2.468341e-09\n",
            "\n",
            "\n",
            " mult:[1] 0.623\n",
            "\n",
            " Rate of success/failure:[1] 0\n",
            "\n",
            " gain:[1] 0.2762982\n",
            "\n",
            " gain for fixed policy:[1] 0.2765298\n",
            "\n",
            "RC: L , \n",
            "\n",
            "optimal policy:\n",
            "\n",
            "     [,1] [,2] [,3] [,4] [,5] [,6] [,7] [,8] [,9] [,10] [,11]\n",
            "[1,]    0    0    0    0    0    0    0    0    0     0     0\n",
            "\n",
            "steady_prob:\n",
            "          [,1]      [,2]       [,3]       [,4]        [,5]        [,6]\n",
            "[1,] 0.5899196 0.2880784 0.09378587 0.02289947 0.004473045 0.000728115\n",
            "             [,7]         [,8]         [,9]        [,10]        [,11]\n",
            "[1,] 0.0001015898 1.240246e-05 1.345901e-06 1.314502e-07 1.283835e-08\n"
          ]
        }
      ]
    },
    {
      "cell_type": "code",
      "source": [
        "mult_val = unlist(lst[[1]])\n",
        "rate_of_success_or_failure = unlist(lst[[2]])\n",
        "gain = unlist(lst[[3]])\n",
        "fixed = unlist(lst[[4]])\n",
        "policy = lst[5]"
      ],
      "metadata": {
        "id": "6MSgKbydnhC4"
      },
      "execution_count": null,
      "outputs": []
    },
    {
      "cell_type": "code",
      "source": [
        "data = data.frame(mult_val,rate_of_success_or_failure,gain,fixed)\n",
        "#to name the columns we use names() function\n",
        "names(data) = c(\"mult\",\"rate of S/F\",'optimal_gain','fixedPolicy_gain')"
      ],
      "metadata": {
        "id": "GIs9FzIj2WI-"
      },
      "execution_count": null,
      "outputs": []
    },
    {
      "cell_type": "code",
      "source": [],
      "metadata": {
        "id": "1Djx-Wau74b_"
      },
      "execution_count": null,
      "outputs": []
    },
    {
      "cell_type": "code",
      "source": [
        "policy"
      ],
      "metadata": {
        "colab": {
          "base_uri": "https://localhost:8080/",
          "height": 337
        },
        "id": "gXlaq38t56tH",
        "outputId": "0950aa38-82c6-41c1-a80c-7bb0895dc0ca"
      },
      "execution_count": null,
      "outputs": [
        {
          "output_type": "display_data",
          "data": {
            "text/html": [
              "<ol>\n",
              "\t<li><ol>\n",
              "\t<li><table class=\"dataframe\">\n",
              "<caption>A matrix: 1 × 11 of type dbl</caption>\n",
              "<tbody>\n",
              "\t<tr><td>0</td><td>1</td><td>2</td><td>3</td><td>4</td><td>5</td><td>6</td><td>7</td><td>8</td><td>9</td><td>10</td></tr>\n",
              "</tbody>\n",
              "</table>\n",
              "</li>\n",
              "\t<li><table class=\"dataframe\">\n",
              "<caption>A matrix: 1 × 11 of type dbl</caption>\n",
              "<tbody>\n",
              "\t<tr><td>0</td><td>1</td><td>2</td><td>3</td><td>4</td><td>5</td><td>6</td><td>7</td><td>8</td><td>9</td><td>0</td></tr>\n",
              "</tbody>\n",
              "</table>\n",
              "</li>\n",
              "\t<li><table class=\"dataframe\">\n",
              "<caption>A matrix: 1 × 11 of type dbl</caption>\n",
              "<tbody>\n",
              "\t<tr><td>0</td><td>1</td><td>2</td><td>3</td><td>4</td><td>5</td><td>6</td><td>7</td><td>8</td><td>0</td><td>0</td></tr>\n",
              "</tbody>\n",
              "</table>\n",
              "</li>\n",
              "\t<li><table class=\"dataframe\">\n",
              "<caption>A matrix: 1 × 11 of type dbl</caption>\n",
              "<tbody>\n",
              "\t<tr><td>0</td><td>1</td><td>2</td><td>3</td><td>4</td><td>5</td><td>6</td><td>7</td><td>0</td><td>0</td><td>0</td></tr>\n",
              "</tbody>\n",
              "</table>\n",
              "</li>\n",
              "\t<li><table class=\"dataframe\">\n",
              "<caption>A matrix: 1 × 11 of type dbl</caption>\n",
              "<tbody>\n",
              "\t<tr><td>0</td><td>1</td><td>2</td><td>3</td><td>4</td><td>5</td><td>0</td><td>0</td><td>0</td><td>0</td><td>0</td></tr>\n",
              "</tbody>\n",
              "</table>\n",
              "</li>\n",
              "\t<li><table class=\"dataframe\">\n",
              "<caption>A matrix: 1 × 11 of type dbl</caption>\n",
              "<tbody>\n",
              "\t<tr><td>0</td><td>0</td><td>0</td><td>0</td><td>0</td><td>0</td><td>0</td><td>0</td><td>0</td><td>0</td><td>0</td></tr>\n",
              "</tbody>\n",
              "</table>\n",
              "</li>\n",
              "</ol>\n",
              "</li>\n",
              "</ol>\n"
            ],
            "text/markdown": "1. 1. \nA matrix: 1 × 11 of type dbl\n\n| 0 | 1 | 2 | 3 | 4 | 5 | 6 | 7 | 8 | 9 | 10 |\n\n\n2. \nA matrix: 1 × 11 of type dbl\n\n| 0 | 1 | 2 | 3 | 4 | 5 | 6 | 7 | 8 | 9 | 0 |\n\n\n3. \nA matrix: 1 × 11 of type dbl\n\n| 0 | 1 | 2 | 3 | 4 | 5 | 6 | 7 | 8 | 0 | 0 |\n\n\n4. \nA matrix: 1 × 11 of type dbl\n\n| 0 | 1 | 2 | 3 | 4 | 5 | 6 | 7 | 0 | 0 | 0 |\n\n\n5. \nA matrix: 1 × 11 of type dbl\n\n| 0 | 1 | 2 | 3 | 4 | 5 | 0 | 0 | 0 | 0 | 0 |\n\n\n6. \nA matrix: 1 × 11 of type dbl\n\n| 0 | 0 | 0 | 0 | 0 | 0 | 0 | 0 | 0 | 0 | 0 |\n\n\n\n\n\n\n\n",
            "text/latex": "\\begin{enumerate}\n\\item \\begin{enumerate}\n\\item A matrix: 1 × 11 of type dbl\n\\begin{tabular}{lllllllllll}\n\t 0 & 1 & 2 & 3 & 4 & 5 & 6 & 7 & 8 & 9 & 10\\\\\n\\end{tabular}\n\n\\item A matrix: 1 × 11 of type dbl\n\\begin{tabular}{lllllllllll}\n\t 0 & 1 & 2 & 3 & 4 & 5 & 6 & 7 & 8 & 9 & 0\\\\\n\\end{tabular}\n\n\\item A matrix: 1 × 11 of type dbl\n\\begin{tabular}{lllllllllll}\n\t 0 & 1 & 2 & 3 & 4 & 5 & 6 & 7 & 8 & 0 & 0\\\\\n\\end{tabular}\n\n\\item A matrix: 1 × 11 of type dbl\n\\begin{tabular}{lllllllllll}\n\t 0 & 1 & 2 & 3 & 4 & 5 & 6 & 7 & 0 & 0 & 0\\\\\n\\end{tabular}\n\n\\item A matrix: 1 × 11 of type dbl\n\\begin{tabular}{lllllllllll}\n\t 0 & 1 & 2 & 3 & 4 & 5 & 0 & 0 & 0 & 0 & 0\\\\\n\\end{tabular}\n\n\\item A matrix: 1 × 11 of type dbl\n\\begin{tabular}{lllllllllll}\n\t 0 & 0 & 0 & 0 & 0 & 0 & 0 & 0 & 0 & 0 & 0\\\\\n\\end{tabular}\n\n\\end{enumerate}\n\n\\end{enumerate}\n",
            "text/plain": [
              "[[1]]\n",
              "[[1]][[1]]\n",
              "     [,1] [,2] [,3] [,4] [,5] [,6] [,7] [,8] [,9] [,10] [,11]\n",
              "[1,]    0    1    2    3    4    5    6    7    8     9    10\n",
              "\n",
              "[[1]][[2]]\n",
              "     [,1] [,2] [,3] [,4] [,5] [,6] [,7] [,8] [,9] [,10] [,11]\n",
              "[1,]    0    1    2    3    4    5    6    7    8     9     0\n",
              "\n",
              "[[1]][[3]]\n",
              "     [,1] [,2] [,3] [,4] [,5] [,6] [,7] [,8] [,9] [,10] [,11]\n",
              "[1,]    0    1    2    3    4    5    6    7    8     0     0\n",
              "\n",
              "[[1]][[4]]\n",
              "     [,1] [,2] [,3] [,4] [,5] [,6] [,7] [,8] [,9] [,10] [,11]\n",
              "[1,]    0    1    2    3    4    5    6    7    0     0     0\n",
              "\n",
              "[[1]][[5]]\n",
              "     [,1] [,2] [,3] [,4] [,5] [,6] [,7] [,8] [,9] [,10] [,11]\n",
              "[1,]    0    1    2    3    4    5    0    0    0     0     0\n",
              "\n",
              "[[1]][[6]]\n",
              "     [,1] [,2] [,3] [,4] [,5] [,6] [,7] [,8] [,9] [,10] [,11]\n",
              "[1,]    0    0    0    0    0    0    0    0    0     0     0\n",
              "\n"
            ]
          },
          "metadata": {}
        }
      ]
    },
    {
      "cell_type": "code",
      "source": [
        "data"
      ],
      "metadata": {
        "colab": {
          "base_uri": "https://localhost:8080/",
          "height": 286
        },
        "id": "NJyulhFJ2ylR",
        "outputId": "a406075c-5358-4793-8bef-a3f3fa635efc"
      },
      "execution_count": null,
      "outputs": [
        {
          "output_type": "display_data",
          "data": {
            "text/html": [
              "<table class=\"dataframe\">\n",
              "<caption>A data.frame: 6 × 4</caption>\n",
              "<thead>\n",
              "\t<tr><th scope=col>mult</th><th scope=col>rate of S/F</th><th scope=col>optimal_gain</th><th scope=col>fixedPolicy_gain</th></tr>\n",
              "\t<tr><th scope=col>&lt;dbl&gt;</th><th scope=col>&lt;dbl&gt;</th><th scope=col>&lt;dbl&gt;</th><th scope=col>&lt;dbl&gt;</th></tr>\n",
              "</thead>\n",
              "<tbody>\n",
              "\t<tr><td>0.000</td><td>0.1149728</td><td>0.1043949</td><td>0.1043949</td></tr>\n",
              "\t<tr><td>0.532</td><td>0.1149728</td><td>0.2513865</td><td>0.2513865</td></tr>\n",
              "\t<tr><td>0.607</td><td>0.1149728</td><td>0.2721090</td><td>0.2721090</td></tr>\n",
              "\t<tr><td>0.620</td><td>0.1149726</td><td>0.2757009</td><td>0.2757009</td></tr>\n",
              "\t<tr><td>0.622</td><td>0.1149479</td><td>0.2762534</td><td>0.2762535</td></tr>\n",
              "\t<tr><td>0.623</td><td>0.0000000</td><td>0.2762982</td><td>0.2765298</td></tr>\n",
              "</tbody>\n",
              "</table>\n"
            ],
            "text/markdown": "\nA data.frame: 6 × 4\n\n| mult &lt;dbl&gt; | rate of S/F &lt;dbl&gt; | optimal_gain &lt;dbl&gt; | fixedPolicy_gain &lt;dbl&gt; |\n|---|---|---|---|\n| 0.000 | 0.1149728 | 0.1043949 | 0.1043949 |\n| 0.532 | 0.1149728 | 0.2513865 | 0.2513865 |\n| 0.607 | 0.1149728 | 0.2721090 | 0.2721090 |\n| 0.620 | 0.1149726 | 0.2757009 | 0.2757009 |\n| 0.622 | 0.1149479 | 0.2762534 | 0.2762535 |\n| 0.623 | 0.0000000 | 0.2762982 | 0.2765298 |\n\n",
            "text/latex": "A data.frame: 6 × 4\n\\begin{tabular}{llll}\n mult & rate of S/F & optimal\\_gain & fixedPolicy\\_gain\\\\\n <dbl> & <dbl> & <dbl> & <dbl>\\\\\n\\hline\n\t 0.000 & 0.1149728 & 0.1043949 & 0.1043949\\\\\n\t 0.532 & 0.1149728 & 0.2513865 & 0.2513865\\\\\n\t 0.607 & 0.1149728 & 0.2721090 & 0.2721090\\\\\n\t 0.620 & 0.1149726 & 0.2757009 & 0.2757009\\\\\n\t 0.622 & 0.1149479 & 0.2762534 & 0.2762535\\\\\n\t 0.623 & 0.0000000 & 0.2762982 & 0.2765298\\\\\n\\end{tabular}\n",
            "text/plain": [
              "  mult  rate of S/F optimal_gain fixedPolicy_gain\n",
              "1 0.000 0.1149728   0.1043949    0.1043949       \n",
              "2 0.532 0.1149728   0.2513865    0.2513865       \n",
              "3 0.607 0.1149728   0.2721090    0.2721090       \n",
              "4 0.620 0.1149726   0.2757009    0.2757009       \n",
              "5 0.622 0.1149479   0.2762534    0.2762535       \n",
              "6 0.623 0.0000000   0.2762982    0.2765298       "
            ]
          },
          "metadata": {}
        }
      ]
    },
    {
      "cell_type": "code",
      "source": [
        "plot(mult_val,gain,'s')\n",
        "\n",
        "# overlay line plot\n",
        "\n",
        "#points(mult_val, fixed,'s',col='green')"
      ],
      "metadata": {
        "id": "L-oSWrqaowfP",
        "outputId": "210d8da2-7b5b-4ec3-9bdd-5b795fc2ad86",
        "colab": {
          "base_uri": "https://localhost:8080/",
          "height": 437
        }
      },
      "execution_count": null,
      "outputs": [
        {
          "output_type": "display_data",
          "data": {
            "text/plain": [
              "plot without title"
            ],
            "image/png": "[encoded data removed]"
          },
          "metadata": {
            "image/png": {
              "width": 420,
              "height": 420
            }
          }
        }
      ]
    },
    {
      "cell_type": "code",
      "source": [
        "plot(mult_val,fixed,'s')"
      ],
      "metadata": {
        "colab": {
          "base_uri": "https://localhost:8080/",
          "height": 437
        },
        "id": "4MvAHuy41xm5",
        "outputId": "1afbffa6-dd47-4d4b-b021-eb5a295e84b7"
      },
      "execution_count": null,
      "outputs": [
        {
          "output_type": "display_data",
          "data": {
            "text/plain": [
              "plot without title"
            ],
            "image/png": "[encoded data removed]"
          },
          "metadata": {
            "image/png": {
              "width": 420,
              "height": 420
            }
          }
        }
      ]
    },
    {
      "cell_type": "code",
      "source": [
        "plot(mult_val,gain,'s')\n",
        "plot(mult_val,fixed,'s')"
      ],
      "metadata": {
        "colab": {
          "base_uri": "https://localhost:8080/",
          "height": 857
        },
        "id": "Ayo4EuEWE3Pj",
        "outputId": "91fe005a-68a9-49da-be0e-f3b1df0027de"
      },
      "execution_count": null,
      "outputs": [
        {
          "output_type": "display_data",
          "data": {
            "text/plain": [
              "plot without title"
            ],
            "image/png": "[encoded data removed]"
          },
          "metadata": {
            "image/png": {
              "width": 420,
              "height": 420
            }
          }
        },
        {
          "output_type": "display_data",
          "data": {
            "text/plain": [
              "plot without title"
            ],
            "image/png": "[encoded data removed]"
          },
          "metadata": {
            "image/png": {
              "width": 420,
              "height": 420
            }
          }
        }
      ]
    },
    {
      "cell_type": "code",
      "source": [
        " #THE FOLLOWING CAN BE AN ALTERNATIVE TO THE mult_test\n",
        " #tried R's apply function to avoid the delay in for loops. This doesn't work properly.\n",
        " #For some reason, runif is not creating the assigned number of random values, but less.\n",
        "\n",
        "\n",
        " mult_vals = runif(10000000,0,0.5320000000000000284217)\n",
        "\n",
        "  mult_vals = sort(mult_matrix, decreasing=FALSE)\n",
        "\n",
        "  mult_matrix = matrix(mult_vals,nrow=length(mult_vals))\n",
        "\n",
        "  MDP_mult <- function(val){\n",
        "  MDP(lam=0.2763, mu=0.2829, eps=0.1718, numRescue=10, numTerror=10, costT=1, RC='L', mult=val)\n",
        "}\n",
        "\n",
        "policy_matrix <- apply(mult_matrix, 1, MDP_mult)\n",
        "\n",
        "print(unique(policy_matrix,MARGIN = 2))"
      ],
      "metadata": {
        "id": "zNh8U5AHg-AZ",
        "outputId": "00c48e88-0a84-4f20-ccb8-d608fc9dba59",
        "colab": {
          "base_uri": "https://localhost:8080/",
          "height": 131
        }
      },
      "execution_count": null,
      "outputs": [
        {
          "output_type": "error",
          "ename": "ERROR",
          "evalue": "ignored",
          "traceback": [
            "Error in eval(expr, envir, enclos): object 'mult_matrix' not found\nTraceback:\n",
            "1. sort(mult_matrix, decreasing = FALSE)"
          ]
        }
      ]
    },
    {
      "cell_type": "code",
      "source": [
        "#prob_search algo\n",
        "#the if-else statements don't seem to be working logically for the actual prob.NEED TO FIX!\n",
        "#check documentation for setequal(). You are probably applying it incorrectly.\n",
        "\n",
        "#update1 (27TH JUNE): Rather than setequal, use double equals between arrays to compare, and then use all() function to check if all same index elements are equal between both arrays.\n",
        "\n",
        "#update2 (27TH JUNE) : For the actual prob, guess one possible intermediary policy between two found, and run the following to get close enough upper and lower bounds.\n",
        "#Then using those bounds, use the mult_test alternative to check for a large number of values in between bounds. Might work, tho clunky af.\n",
        "\n",
        "#update3(28th JUNE) :\n",
        "\n",
        "#1. FOR MDP(lam=0.2763, mu=0.2829, eps=0.1718, numRescue=10, numTerror=10, costT=1, RC='L', mult=val), val = 0.5312087939634377864451 yields (0,1,2,.......,9)\n",
        "#2. Need to figure out how does R handle large numbers, as in how many digits does it consider after the decimal point when doing any operation\n",
        "#3. If possible, convert the following to apply method, cause for loops are still clunky when the lower and upper bounds get closer together.\n",
        "#4. For 2, check this link: https://floating-point-gui.de/basic/\n",
        "\n",
        "#update3(2nd July):\n",
        "\n",
        "#1. R is precise roughly till 16 digits after the decimal point. Rest is noise.\n",
        "#2. Check algo captured on iphone camera, try it out.\n",
        "#3. Is there any way to figure out unique column indices from a R column, not just the columns themselves (using unique() with MARGIN=2 applied on the matrix)?\n",
        "\n",
        "low = 0.5312087939634377864451\n",
        "up = 0.5312087939634614341955\n",
        "\n",
        "#go = 0\n",
        "\n",
        "prev = 'a'\n",
        "\n",
        "for (n in 1:3){\n",
        "\n",
        "val = runif(1,low,up)\n",
        "\n",
        "\n",
        "result = MDP(lam=0.2763, mu=0.2829, eps=0.1718, numRescue=10, numTerror=10, costT=1, RC='L', mult=val)\n",
        "\n",
        "array_1 = array(c(0,1,2,3,4,5,6,7,8,9,10))\n",
        "array_2 = array(c(0,1,2,3,4,5,6,7,8,9,0))\n",
        "\n",
        "\n",
        "\n",
        "if (all(result == matrix(array_1,nrow=1,ncol=length(array_1)))){\n",
        "  low = val\n",
        "  if (!prev == 'a'){\n",
        "    up = prev\n",
        "  }\n",
        "  next\n",
        "}\n",
        "\n",
        "else if (all(result == matrix(array_2,nrow=1,ncol=length(array_2)))){\n",
        "  if (!prev == 'a'){\n",
        "    low = prev\n",
        "  }\n",
        "  up = val\n",
        "  next\n",
        "}\n",
        "\n",
        "else {\n",
        "  cat('inter_MULT: ')\n",
        "  print(val,digits=16)\n",
        "  cat('\\ninter_RESULT: ',result)\n",
        "  cat('\\n\\n')\n",
        "  #go = 1\n",
        " next\n",
        "\n",
        "}\n",
        "\n",
        "\n",
        "\n",
        "# #if (setequal(result == array(c(0,1,2,3,4,5,6,7,8,9,9)))){\n",
        "# #  cat('JACKPOT:\\n\\n')\n",
        "# #  print(val,digits=22)\n",
        "# #  cat('result: ',result)\n",
        "# #  cat('\\n\\n')\n",
        "#   go = 1\n",
        "#   break\n",
        "# }\n",
        "\n",
        "# # else {\n",
        "# #   if (setequal(result,array(c(0,1,2,3,4,5,6,7,8,9,10)))) {\n",
        "# #   low = val\n",
        "# #   if (!prev == 'a'){\n",
        "# #     up = prev\n",
        "# #   }\n",
        "# #   next\n",
        "# # }\n",
        "\n",
        "# else if (setequal(result,array(c(0,1,2,3,4,5,6,7,8,9,0)))){\n",
        "#   if (!prev == 'a'){\n",
        "#     low = prev\n",
        "#   }\n",
        "#   up = val\n",
        "#   next\n",
        "# }\n",
        "\n",
        "# else {\n",
        "#   next\n",
        "# }\n",
        "\n",
        "#}\n",
        "\n",
        "prev = val\n",
        "\n",
        "\n",
        "}\n",
        "\n",
        "#if (go == 0) {\n",
        "cat('low: ')\n",
        "print(low,digits=16)\n",
        "cat('\\n\\n')\n",
        "\n",
        "cat('val: ')\n",
        "print(val,digits=16)\n",
        "cat('\\n\\n')\n",
        "\n",
        "cat('up: ')\n",
        "print(up,digits=)\n",
        "cat('\\n\\n')\n",
        "\n",
        "cat('result',result)\n",
        "#}"
      ],
      "metadata": {
        "id": "iQXOZkRjMBpp",
        "outputId": "03ce1760-234b-48c5-af36-5e32101be21e",
        "colab": {
          "base_uri": "https://localhost:8080/"
        }
      },
      "execution_count": null,
      "outputs": [
        {
          "output_type": "stream",
          "name": "stdout",
          "text": [
            "low: [1] 0.5312087939634378\n",
            "\n",
            "\n",
            "val: [1] 0.5312087939634412\n",
            "\n",
            "\n",
            "up: [1] 0.5312087939634412\n",
            "\n",
            "\n",
            "result 0 1 2 3 4 5 6 7 8 9 0"
          ]
        }
      ]
    },
    {
      "cell_type": "code",
      "source": [
        "MDP_mult <- function(val){\n",
        "  MDP(lam=0.2763, mu=0.2829, eps=0.1718, numRescue=10, numTerror=10, costT=1, RC='L', mult=val)\n",
        "}"
      ],
      "metadata": {
        "id": "TImja43JYm-b"
      },
      "execution_count": null,
      "outputs": []
    },
    {
      "cell_type": "code",
      "source": [
        "low = 0\n",
        "up = 3\n",
        "\n",
        "vals = unique(sort(runif(10,low,up),decreasing = FALSE))\n",
        "mat = matrix(vals,nrow=length(vals))\n",
        "policy <- apply(mat, 1, MDP_mult)\n",
        "print(mat)\n",
        "print(policy)"
      ],
      "metadata": {
        "id": "rANzoUyyUiYW",
        "outputId": "28625989-cdbb-49c7-d053-c7b894ee61d5",
        "colab": {
          "base_uri": "https://localhost:8080/"
        }
      },
      "execution_count": null,
      "outputs": [
        {
          "output_type": "stream",
          "name": "stdout",
          "text": [
            "           [,1]\n",
            " [1,] 0.1621361\n",
            " [2,] 0.2515002\n",
            " [3,] 0.3191108\n",
            " [4,] 0.4929663\n",
            " [5,] 1.0602726\n",
            " [6,] 1.4755349\n",
            " [7,] 1.4815476\n",
            " [8,] 2.3246357\n",
            " [9,] 2.6622851\n",
            "[10,] 2.9315732\n",
            "      [,1] [,2] [,3] [,4] [,5] [,6] [,7] [,8] [,9] [,10]\n",
            " [1,]    0    0    0    0    0    0    0    0    0     0\n",
            " [2,]    1    1    1    1    0    0    0    0    0     0\n",
            " [3,]    2    2    2    2    0    0    0    0    0     0\n",
            " [4,]    3    3    3    3    0    0    0    0    0     0\n",
            " [5,]    4    4    4    4    0    0    0    0    0     0\n",
            " [6,]    5    5    5    5    0    0    0    0    0     0\n",
            " [7,]    6    6    6    6    0    0    0    0    0     0\n",
            " [8,]    7    7    7    7    0    0    0    0    0     0\n",
            " [9,]    8    8    8    8    0    0    0    0    0     0\n",
            "[10,]    9    9    9    9    0    0    0    0    0     0\n",
            "[11,]   10   10   10   10    0    0    0    0    0     0\n"
          ]
        }
      ]
    },
    {
      "cell_type": "code",
      "source": [
        "sth = unique(policy,MARGIN=2)"
      ],
      "metadata": {
        "id": "wW9fNoWInyJt"
      },
      "execution_count": null,
      "outputs": []
    },
    {
      "cell_type": "code",
      "source": [
        "sth"
      ],
      "metadata": {
        "id": "pceUb2uXwOec",
        "outputId": "81458db2-c481-4bc3-9eba-b18676a6ef5b",
        "colab": {
          "base_uri": "https://localhost:8080/",
          "height": 449
        }
      },
      "execution_count": null,
      "outputs": [
        {
          "output_type": "display_data",
          "data": {
            "text/html": [
              "<table class=\"dataframe\">\n",
              "<caption>A matrix: 11 × 2 of type dbl</caption>\n",
              "<tbody>\n",
              "\t<tr><td> 0</td><td>0</td></tr>\n",
              "\t<tr><td> 1</td><td>0</td></tr>\n",
              "\t<tr><td> 2</td><td>0</td></tr>\n",
              "\t<tr><td> 3</td><td>0</td></tr>\n",
              "\t<tr><td> 4</td><td>0</td></tr>\n",
              "\t<tr><td> 5</td><td>0</td></tr>\n",
              "\t<tr><td> 6</td><td>0</td></tr>\n",
              "\t<tr><td> 7</td><td>0</td></tr>\n",
              "\t<tr><td> 8</td><td>0</td></tr>\n",
              "\t<tr><td> 9</td><td>0</td></tr>\n",
              "\t<tr><td>10</td><td>0</td></tr>\n",
              "</tbody>\n",
              "</table>\n"
            ],
            "text/markdown": "\nA matrix: 11 × 2 of type dbl\n\n|  0 | 0 |\n|  1 | 0 |\n|  2 | 0 |\n|  3 | 0 |\n|  4 | 0 |\n|  5 | 0 |\n|  6 | 0 |\n|  7 | 0 |\n|  8 | 0 |\n|  9 | 0 |\n| 10 | 0 |\n\n",
            "text/latex": "A matrix: 11 × 2 of type dbl\n\\begin{tabular}{ll}\n\t  0 & 0\\\\\n\t  1 & 0\\\\\n\t  2 & 0\\\\\n\t  3 & 0\\\\\n\t  4 & 0\\\\\n\t  5 & 0\\\\\n\t  6 & 0\\\\\n\t  7 & 0\\\\\n\t  8 & 0\\\\\n\t  9 & 0\\\\\n\t 10 & 0\\\\\n\\end{tabular}\n",
            "text/plain": [
              "      [,1] [,2]\n",
              " [1,]  0   0   \n",
              " [2,]  1   0   \n",
              " [3,]  2   0   \n",
              " [4,]  3   0   \n",
              " [5,]  4   0   \n",
              " [6,]  5   0   \n",
              " [7,]  6   0   \n",
              " [8,]  7   0   \n",
              " [9,]  8   0   \n",
              "[10,]  9   0   \n",
              "[11,] 10   0   "
            ]
          },
          "metadata": {}
        }
      ]
    },
    {
      "cell_type": "code",
      "source": [
        "new = policy == sth[,1]"
      ],
      "metadata": {
        "id": "hXt7IhLUpw5r"
      },
      "execution_count": null,
      "outputs": []
    },
    {
      "cell_type": "code",
      "source": [
        "num_uniqCols = dim(sth)[2]\n",
        "\n"
      ],
      "metadata": {
        "id": "8Qom5Zm6wgv8"
      },
      "execution_count": null,
      "outputs": []
    },
    {
      "cell_type": "code",
      "source": [
        "which(policy==sth)"
      ],
      "metadata": {
        "id": "_0l9PoTgq2em",
        "outputId": "51888718-210b-4fd9-faa7-1613edb809a8",
        "colab": {
          "base_uri": "https://localhost:8080/",
          "height": 52
        }
      },
      "execution_count": null,
      "outputs": [
        {
          "output_type": "display_data",
          "data": {
            "text/html": [
              "<style>\n",
              ".list-inline {list-style: none; margin:0; padding: 0}\n",
              ".list-inline>li {display: inline-block}\n",
              ".list-inline>li:not(:last-child)::after {content: \"\\00b7\"; padding: 0 .5ex}\n",
              "</style>\n",
              "<ol class=list-inline><li>1</li><li>2</li><li>3</li><li>4</li><li>5</li><li>6</li><li>7</li><li>8</li><li>9</li><li>10</li><li>11</li><li>12</li><li>13</li><li>14</li><li>15</li><li>16</li><li>17</li><li>18</li><li>19</li><li>20</li><li>21</li><li>22</li><li>23</li><li>33</li><li>34</li><li>35</li><li>36</li><li>37</li><li>38</li><li>39</li><li>40</li><li>41</li><li>42</li><li>43</li><li>44</li><li>45</li><li>46</li><li>47</li><li>48</li><li>49</li><li>50</li><li>51</li><li>52</li><li>53</li><li>54</li><li>55</li><li>56</li><li>57</li><li>58</li><li>59</li><li>60</li><li>61</li><li>62</li><li>63</li><li>64</li><li>65</li><li>66</li><li>67</li><li>68</li><li>69</li><li>70</li><li>71</li><li>72</li><li>73</li><li>74</li><li>75</li><li>76</li><li>77</li><li>78</li><li>79</li><li>80</li><li>81</li><li>82</li><li>83</li><li>84</li><li>85</li><li>86</li><li>87</li><li>88</li><li>89</li><li>90</li><li>91</li><li>92</li><li>93</li><li>94</li><li>95</li><li>96</li><li>97</li><li>98</li><li>99</li><li>100</li><li>101</li><li>102</li><li>103</li><li>104</li><li>105</li><li>106</li><li>107</li><li>108</li><li>109</li><li>110</li></ol>\n"
            ],
            "text/markdown": "1. 1\n2. 2\n3. 3\n4. 4\n5. 5\n6. 6\n7. 7\n8. 8\n9. 9\n10. 10\n11. 11\n12. 12\n13. 13\n14. 14\n15. 15\n16. 16\n17. 17\n18. 18\n19. 19\n20. 20\n21. 21\n22. 22\n23. 23\n24. 33\n25. 34\n26. 35\n27. 36\n28. 37\n29. 38\n30. 39\n31. 40\n32. 41\n33. 42\n34. 43\n35. 44\n36. 45\n37. 46\n38. 47\n39. 48\n40. 49\n41. 50\n42. 51\n43. 52\n44. 53\n45. 54\n46. 55\n47. 56\n48. 57\n49. 58\n50. 59\n51. 60\n52. 61\n53. 62\n54. 63\n55. 64\n56. 65\n57. 66\n58. 67\n59. 68\n60. 69\n61. 70\n62. 71\n63. 72\n64. 73\n65. 74\n66. 75\n67. 76\n68. 77\n69. 78\n70. 79\n71. 80\n72. 81\n73. 82\n74. 83\n75. 84\n76. 85\n77. 86\n78. 87\n79. 88\n80. 89\n81. 90\n82. 91\n83. 92\n84. 93\n85. 94\n86. 95\n87. 96\n88. 97\n89. 98\n90. 99\n91. 100\n92. 101\n93. 102\n94. 103\n95. 104\n96. 105\n97. 106\n98. 107\n99. 108\n100. 109\n101. 110\n\n\n",
            "text/latex": "\\begin{enumerate*}\n\\item 1\n\\item 2\n\\item 3\n\\item 4\n\\item 5\n\\item 6\n\\item 7\n\\item 8\n\\item 9\n\\item 10\n\\item 11\n\\item 12\n\\item 13\n\\item 14\n\\item 15\n\\item 16\n\\item 17\n\\item 18\n\\item 19\n\\item 20\n\\item 21\n\\item 22\n\\item 23\n\\item 33\n\\item 34\n\\item 35\n\\item 36\n\\item 37\n\\item 38\n\\item 39\n\\item 40\n\\item 41\n\\item 42\n\\item 43\n\\item 44\n\\item 45\n\\item 46\n\\item 47\n\\item 48\n\\item 49\n\\item 50\n\\item 51\n\\item 52\n\\item 53\n\\item 54\n\\item 55\n\\item 56\n\\item 57\n\\item 58\n\\item 59\n\\item 60\n\\item 61\n\\item 62\n\\item 63\n\\item 64\n\\item 65\n\\item 66\n\\item 67\n\\item 68\n\\item 69\n\\item 70\n\\item 71\n\\item 72\n\\item 73\n\\item 74\n\\item 75\n\\item 76\n\\item 77\n\\item 78\n\\item 79\n\\item 80\n\\item 81\n\\item 82\n\\item 83\n\\item 84\n\\item 85\n\\item 86\n\\item 87\n\\item 88\n\\item 89\n\\item 90\n\\item 91\n\\item 92\n\\item 93\n\\item 94\n\\item 95\n\\item 96\n\\item 97\n\\item 98\n\\item 99\n\\item 100\n\\item 101\n\\item 102\n\\item 103\n\\item 104\n\\item 105\n\\item 106\n\\item 107\n\\item 108\n\\item 109\n\\item 110\n\\end{enumerate*}\n",
            "text/plain": [
              "  [1]   1   2   3   4   5   6   7   8   9  10  11  12  13  14  15  16  17  18\n",
              " [19]  19  20  21  22  23  33  34  35  36  37  38  39  40  41  42  43  44  45\n",
              " [37]  46  47  48  49  50  51  52  53  54  55  56  57  58  59  60  61  62  63\n",
              " [55]  64  65  66  67  68  69  70  71  72  73  74  75  76  77  78  79  80  81\n",
              " [73]  82  83  84  85  86  87  88  89  90  91  92  93  94  95  96  97  98  99\n",
              " [91] 100 101 102 103 104 105 106 107 108 109 110"
            ]
          },
          "metadata": {}
        }
      ]
    },
    {
      "cell_type": "markdown",
      "source": [
        "Due to the computational limitations in R, to run large and complicated while/for loops are next to impossible. As such, to find the mult value that yields our desired policy for this toy problem (0,1,1) under any cost structure, we can follow these steps:\n",
        "\n",
        "1. First run the mult_test function to get tentative mult values for (0,1,2) and (0,1,0) while (0,1,1) doesn't yield.\n",
        "\n",
        "2. Next, run prob_search algo with mult_(0,1,2) as low and mult_(0,1,0) as up value. While choosing the number of iterations under the for loop running for this algo, start from an arbitrary value (i.e 100) and lower the value by i.e 10 if code doesn't finish running in i.e 1 second. Keep doing this till your iteration value has been lowered to 1. The final low and up values generated should be quite closer to each other now.\n",
        "\n",
        "3. From this point, I am kind of blank."
      ],
      "metadata": {
        "id": "MJhnkH5_Rx4c"
      }
    },
    {
      "cell_type": "markdown",
      "source": [
        "Actual problem has more than one intermediary policy. How to track them all without an exhaustive search, and with prob search ? I can track assuming there are as many intermediaries as I think there should be, but what happens when I am wrong ?"
      ],
      "metadata": {
        "id": "yHocY0SWPMik"
      }
    }
  ]
}